{
 "cells": [
  {
   "cell_type": "markdown",
   "metadata": {},
   "source": [
    "# Contents <a id='back'></a>\n",
    "\n",
    "* [Análisis del riesgo de incumplimiento de los prestatarios](#intro)\n",
    "* [Abre el archivo de datos y mira la información general.](#data_analysis)\n",
    "* [Ejercicio 1. Exploración de datos](#data_exploration)\n",
    "* [Transformación de datos](#data_transformation)\n",
    "    * [3.1 Restaurar valores ausentes en total_income](#missing_values_total_income)\n",
    "    * [3.2 Restaurar valores en days_employed](#missing_values_days_employed)\n",
    "* [Clasificación de datos](#data_classification)\n",
    "* [Comprobación de datos](#data_check)  \n",
    "* [Conclusión general](#general_conclussions)"
   ]
  },
  {
   "cell_type": "markdown",
   "metadata": {},
   "source": [
    "# Análisis del riesgo de incumplimiento de los prestatarios <a id='intro'></a>\n",
    "\n",
    "Tu proyecto consiste en preparar un informe para la división de préstamos de un banco. Deberás averiguar si el estado civil y el número de hijos de un cliente tienen un impacto en el incumplimiento de pago de un préstamo. El banco ya tiene algunos datos sobre la solvencia crediticia de los clientes.\n",
    "\n",
    "Tu informe se tendrá en cuenta al crear una **puntuación de crédito** para un cliente potencial. La **puntuación de crédito** se utiliza para evaluar la capacidad de un prestatario potencial para pagar su préstamo.\n",
    "\n",
    "\n",
    "En esta investigación se realizará un análisis a un datset para conocer si el incumplimiento del pago del prestamo del banco es influenciado por otros patrones, como el número de hijos, estado civil, nivel de ingresos, entre otros.\n",
    "\n",
    "Por este motivo, se buscará lo siguiente:\n",
    "\n",
    "1. Preprocesar los datos, es decir, encontrar si existen valores ausentes, duplicados, o atípicos para solucionarlos, y seguir con la investigación de la mejor manera.\n",
    "2. Desarrollar distintas funciones para solucionar los problemas, y clasificar añgunos tipos de datos en categorías para stener más orden, y una mejor visión en los datos.\n",
    "3. Por último, averiguar las correlaciones entre algunas variables con la tasa de endeudamiento, para conocer si de verdad está influenciado por la variable o no."
   ]
  },
  {
   "cell_type": "markdown",
   "metadata": {},
   "source": [
    "## Abre el archivo de datos y mira la información general. <a id='data_analysis'></a>\n",
    "\n"
   ]
  },
  {
   "cell_type": "code",
   "execution_count": 101,
   "metadata": {},
   "outputs": [],
   "source": [
    "# Cargar todas las librerías\n",
    "import pandas as pd\n",
    "\n",
    "\n"
   ]
  },
  {
   "cell_type": "code",
   "execution_count": 102,
   "metadata": {},
   "outputs": [
    {
     "name": "stdout",
     "output_type": "stream",
     "text": [
      "       children  days_employed  dob_years            education  education_id  \\\n",
      "0             1   -8437.673028         42    bachelor's degree             0   \n",
      "1             1   -4024.803754         36  secondary education             1   \n",
      "2             0   -5623.422610         33  Secondary Education             1   \n",
      "3             3   -4124.747207         32  secondary education             1   \n",
      "4             0  340266.072047         53  secondary education             1   \n",
      "...         ...            ...        ...                  ...           ...   \n",
      "21520         1   -4529.316663         43  secondary education             1   \n",
      "21521         0  343937.404131         67  secondary education             1   \n",
      "21522         1   -2113.346888         38  secondary education             1   \n",
      "21523         3   -3112.481705         38  secondary education             1   \n",
      "21524         2   -1984.507589         40  secondary education             1   \n",
      "\n",
      "           family_status  family_status_id gender income_type  debt  \\\n",
      "0                married                 0      F    employee     0   \n",
      "1                married                 0      F    employee     0   \n",
      "2                married                 0      M    employee     0   \n",
      "3                married                 0      M    employee     0   \n",
      "4      civil partnership                 1      F     retiree     0   \n",
      "...                  ...               ...    ...         ...   ...   \n",
      "21520  civil partnership                 1      F    business     0   \n",
      "21521            married                 0      F     retiree     0   \n",
      "21522  civil partnership                 1      M    employee     1   \n",
      "21523            married                 0      M    employee     1   \n",
      "21524            married                 0      F    employee     0   \n",
      "\n",
      "       total_income                  purpose  \n",
      "0         40620.102    purchase of the house  \n",
      "1         17932.802             car purchase  \n",
      "2         23341.752    purchase of the house  \n",
      "3         42820.568  supplementary education  \n",
      "4         25378.572        to have a wedding  \n",
      "...             ...                      ...  \n",
      "21520     35966.698     housing transactions  \n",
      "21521     24959.969        purchase of a car  \n",
      "21522     14347.610                 property  \n",
      "21523     39054.888        buying my own car  \n",
      "21524     13127.587             to buy a car  \n",
      "\n",
      "[21525 rows x 12 columns]\n"
     ]
    }
   ],
   "source": [
    "# Carga los datos\n",
    "credit_score = pd.read_csv('/datasets/credit_scoring_eng.csv')\n",
    "print(credit_score)"
   ]
  },
  {
   "cell_type": "markdown",
   "metadata": {},
   "source": [
    "## Ejercicio 1. Exploración de datos <a id='data_exploration'></a>\n",
    "\n",
    "**Descripción de los datos**\n",
    "- `children` - el número de hijos en la familia\n",
    "- `days_employed` - experiencia laboral en días\n",
    "- `dob_years` - la edad del cliente en años\n",
    "- `education` - la educación del cliente\n",
    "- `education_id` - identificador de educación\n",
    "- `family_status` - estado civil\n",
    "- `family_status_id` - identificador de estado civil\n",
    "- `gender` - género del cliente\n",
    "- `income_type` - tipo de empleo\n",
    "- `debt` - ¿había alguna deuda en el pago de un préstamo?\n",
    "- `total_income` - ingreso mensual\n",
    "- `purpose` - el propósito de obtener un préstamo\n",
    "\n"
   ]
  },
  {
   "cell_type": "code",
   "execution_count": 3,
   "metadata": {},
   "outputs": [
    {
     "name": "stdout",
     "output_type": "stream",
     "text": [
      "21525\n",
      "12\n"
     ]
    }
   ],
   "source": [
    "# Vamos a ver cuántas filas y columnas tiene nuestro conjunto de datos\n",
    "rows_number = credit_score.shape[0]\n",
    "columns_number = credit_score.shape[1]\n",
    "print(rows_number)\n",
    "print(columns_number)"
   ]
  },
  {
   "cell_type": "code",
   "execution_count": 4,
   "metadata": {
    "scrolled": true
   },
   "outputs": [
    {
     "data": {
      "text/html": [
       "<div>\n",
       "<style scoped>\n",
       "    .dataframe tbody tr th:only-of-type {\n",
       "        vertical-align: middle;\n",
       "    }\n",
       "\n",
       "    .dataframe tbody tr th {\n",
       "        vertical-align: top;\n",
       "    }\n",
       "\n",
       "    .dataframe thead th {\n",
       "        text-align: right;\n",
       "    }\n",
       "</style>\n",
       "<table border=\"1\" class=\"dataframe\">\n",
       "  <thead>\n",
       "    <tr style=\"text-align: right;\">\n",
       "      <th></th>\n",
       "      <th>children</th>\n",
       "      <th>days_employed</th>\n",
       "      <th>dob_years</th>\n",
       "      <th>education</th>\n",
       "      <th>education_id</th>\n",
       "      <th>family_status</th>\n",
       "      <th>family_status_id</th>\n",
       "      <th>gender</th>\n",
       "      <th>income_type</th>\n",
       "      <th>debt</th>\n",
       "      <th>total_income</th>\n",
       "      <th>purpose</th>\n",
       "    </tr>\n",
       "  </thead>\n",
       "  <tbody>\n",
       "    <tr>\n",
       "      <th>0</th>\n",
       "      <td>1</td>\n",
       "      <td>-8437.673028</td>\n",
       "      <td>42</td>\n",
       "      <td>bachelor's degree</td>\n",
       "      <td>0</td>\n",
       "      <td>married</td>\n",
       "      <td>0</td>\n",
       "      <td>F</td>\n",
       "      <td>employee</td>\n",
       "      <td>0</td>\n",
       "      <td>40620.102</td>\n",
       "      <td>purchase of the house</td>\n",
       "    </tr>\n",
       "    <tr>\n",
       "      <th>1</th>\n",
       "      <td>1</td>\n",
       "      <td>-4024.803754</td>\n",
       "      <td>36</td>\n",
       "      <td>secondary education</td>\n",
       "      <td>1</td>\n",
       "      <td>married</td>\n",
       "      <td>0</td>\n",
       "      <td>F</td>\n",
       "      <td>employee</td>\n",
       "      <td>0</td>\n",
       "      <td>17932.802</td>\n",
       "      <td>car purchase</td>\n",
       "    </tr>\n",
       "    <tr>\n",
       "      <th>2</th>\n",
       "      <td>0</td>\n",
       "      <td>-5623.422610</td>\n",
       "      <td>33</td>\n",
       "      <td>Secondary Education</td>\n",
       "      <td>1</td>\n",
       "      <td>married</td>\n",
       "      <td>0</td>\n",
       "      <td>M</td>\n",
       "      <td>employee</td>\n",
       "      <td>0</td>\n",
       "      <td>23341.752</td>\n",
       "      <td>purchase of the house</td>\n",
       "    </tr>\n",
       "    <tr>\n",
       "      <th>3</th>\n",
       "      <td>3</td>\n",
       "      <td>-4124.747207</td>\n",
       "      <td>32</td>\n",
       "      <td>secondary education</td>\n",
       "      <td>1</td>\n",
       "      <td>married</td>\n",
       "      <td>0</td>\n",
       "      <td>M</td>\n",
       "      <td>employee</td>\n",
       "      <td>0</td>\n",
       "      <td>42820.568</td>\n",
       "      <td>supplementary education</td>\n",
       "    </tr>\n",
       "    <tr>\n",
       "      <th>4</th>\n",
       "      <td>0</td>\n",
       "      <td>340266.072047</td>\n",
       "      <td>53</td>\n",
       "      <td>secondary education</td>\n",
       "      <td>1</td>\n",
       "      <td>civil partnership</td>\n",
       "      <td>1</td>\n",
       "      <td>F</td>\n",
       "      <td>retiree</td>\n",
       "      <td>0</td>\n",
       "      <td>25378.572</td>\n",
       "      <td>to have a wedding</td>\n",
       "    </tr>\n",
       "    <tr>\n",
       "      <th>5</th>\n",
       "      <td>0</td>\n",
       "      <td>-926.185831</td>\n",
       "      <td>27</td>\n",
       "      <td>bachelor's degree</td>\n",
       "      <td>0</td>\n",
       "      <td>civil partnership</td>\n",
       "      <td>1</td>\n",
       "      <td>M</td>\n",
       "      <td>business</td>\n",
       "      <td>0</td>\n",
       "      <td>40922.170</td>\n",
       "      <td>purchase of the house</td>\n",
       "    </tr>\n",
       "    <tr>\n",
       "      <th>6</th>\n",
       "      <td>0</td>\n",
       "      <td>-2879.202052</td>\n",
       "      <td>43</td>\n",
       "      <td>bachelor's degree</td>\n",
       "      <td>0</td>\n",
       "      <td>married</td>\n",
       "      <td>0</td>\n",
       "      <td>F</td>\n",
       "      <td>business</td>\n",
       "      <td>0</td>\n",
       "      <td>38484.156</td>\n",
       "      <td>housing transactions</td>\n",
       "    </tr>\n",
       "    <tr>\n",
       "      <th>7</th>\n",
       "      <td>0</td>\n",
       "      <td>-152.779569</td>\n",
       "      <td>50</td>\n",
       "      <td>SECONDARY EDUCATION</td>\n",
       "      <td>1</td>\n",
       "      <td>married</td>\n",
       "      <td>0</td>\n",
       "      <td>M</td>\n",
       "      <td>employee</td>\n",
       "      <td>0</td>\n",
       "      <td>21731.829</td>\n",
       "      <td>education</td>\n",
       "    </tr>\n",
       "    <tr>\n",
       "      <th>8</th>\n",
       "      <td>2</td>\n",
       "      <td>-6929.865299</td>\n",
       "      <td>35</td>\n",
       "      <td>BACHELOR'S DEGREE</td>\n",
       "      <td>0</td>\n",
       "      <td>civil partnership</td>\n",
       "      <td>1</td>\n",
       "      <td>F</td>\n",
       "      <td>employee</td>\n",
       "      <td>0</td>\n",
       "      <td>15337.093</td>\n",
       "      <td>having a wedding</td>\n",
       "    </tr>\n",
       "    <tr>\n",
       "      <th>9</th>\n",
       "      <td>0</td>\n",
       "      <td>-2188.756445</td>\n",
       "      <td>41</td>\n",
       "      <td>secondary education</td>\n",
       "      <td>1</td>\n",
       "      <td>married</td>\n",
       "      <td>0</td>\n",
       "      <td>M</td>\n",
       "      <td>employee</td>\n",
       "      <td>0</td>\n",
       "      <td>23108.150</td>\n",
       "      <td>purchase of the house for my family</td>\n",
       "    </tr>\n",
       "  </tbody>\n",
       "</table>\n",
       "</div>"
      ],
      "text/plain": [
       "   children  days_employed  dob_years            education  education_id  \\\n",
       "0         1   -8437.673028         42    bachelor's degree             0   \n",
       "1         1   -4024.803754         36  secondary education             1   \n",
       "2         0   -5623.422610         33  Secondary Education             1   \n",
       "3         3   -4124.747207         32  secondary education             1   \n",
       "4         0  340266.072047         53  secondary education             1   \n",
       "5         0    -926.185831         27    bachelor's degree             0   \n",
       "6         0   -2879.202052         43    bachelor's degree             0   \n",
       "7         0    -152.779569         50  SECONDARY EDUCATION             1   \n",
       "8         2   -6929.865299         35    BACHELOR'S DEGREE             0   \n",
       "9         0   -2188.756445         41  secondary education             1   \n",
       "\n",
       "       family_status  family_status_id gender income_type  debt  total_income  \\\n",
       "0            married                 0      F    employee     0     40620.102   \n",
       "1            married                 0      F    employee     0     17932.802   \n",
       "2            married                 0      M    employee     0     23341.752   \n",
       "3            married                 0      M    employee     0     42820.568   \n",
       "4  civil partnership                 1      F     retiree     0     25378.572   \n",
       "5  civil partnership                 1      M    business     0     40922.170   \n",
       "6            married                 0      F    business     0     38484.156   \n",
       "7            married                 0      M    employee     0     21731.829   \n",
       "8  civil partnership                 1      F    employee     0     15337.093   \n",
       "9            married                 0      M    employee     0     23108.150   \n",
       "\n",
       "                               purpose  \n",
       "0                purchase of the house  \n",
       "1                         car purchase  \n",
       "2                purchase of the house  \n",
       "3              supplementary education  \n",
       "4                    to have a wedding  \n",
       "5                purchase of the house  \n",
       "6                 housing transactions  \n",
       "7                            education  \n",
       "8                     having a wedding  \n",
       "9  purchase of the house for my family  "
      ]
     },
     "execution_count": 4,
     "metadata": {},
     "output_type": "execute_result"
    }
   ],
   "source": [
    "# vamos a mostrar las primeras filas N\n",
    "credit_score.head(10)\n"
   ]
  },
  {
   "cell_type": "markdown",
   "metadata": {},
   "source": [
    "\n",
    "\n",
    "En esta primera muestra de la tabla de las 10 primeras filas del dataframe, se puede observar algo que no es muy habitual, que los datos de la columna \"days_employed\", posee valores negativos, y esto es un dato que puede resultar extraño, pero debe significar algo.\n"
   ]
  },
  {
   "cell_type": "code",
   "execution_count": 5,
   "metadata": {
    "scrolled": true
   },
   "outputs": [
    {
     "name": "stdout",
     "output_type": "stream",
     "text": [
      "<class 'pandas.core.frame.DataFrame'>\n",
      "RangeIndex: 21525 entries, 0 to 21524\n",
      "Data columns (total 12 columns):\n",
      " #   Column            Non-Null Count  Dtype  \n",
      "---  ------            --------------  -----  \n",
      " 0   children          21525 non-null  int64  \n",
      " 1   days_employed     19351 non-null  float64\n",
      " 2   dob_years         21525 non-null  int64  \n",
      " 3   education         21525 non-null  object \n",
      " 4   education_id      21525 non-null  int64  \n",
      " 5   family_status     21525 non-null  object \n",
      " 6   family_status_id  21525 non-null  int64  \n",
      " 7   gender            21525 non-null  object \n",
      " 8   income_type       21525 non-null  object \n",
      " 9   debt              21525 non-null  int64  \n",
      " 10  total_income      19351 non-null  float64\n",
      " 11  purpose           21525 non-null  object \n",
      "dtypes: float64(2), int64(5), object(5)\n",
      "memory usage: 2.0+ MB\n"
     ]
    }
   ],
   "source": [
    "# Obtener información sobre los datos\n",
    "credit_score.info()\n"
   ]
  },
  {
   "cell_type": "markdown",
   "metadata": {},
   "source": [
    "\n",
    "\n",
    "En la información de los datos del dataframe, se puede observar que hay dos columnas de las 12 que tienen valores ausentes."
   ]
  },
  {
   "cell_type": "code",
   "execution_count": 6,
   "metadata": {
    "scrolled": true
   },
   "outputs": [
    {
     "name": "stdout",
     "output_type": "stream",
     "text": [
      "children               0\n",
      "days_employed       2174\n",
      "dob_years              0\n",
      "education              0\n",
      "education_id           0\n",
      "family_status          0\n",
      "family_status_id       0\n",
      "gender                 0\n",
      "income_type            0\n",
      "debt                   0\n",
      "total_income        2174\n",
      "purpose                0\n",
      "dtype: int64\n",
      "\n",
      "12      NaN\n",
      "26      NaN\n",
      "29      NaN\n",
      "41      NaN\n",
      "55      NaN\n",
      "         ..\n",
      "21489   NaN\n",
      "21495   NaN\n",
      "21497   NaN\n",
      "21502   NaN\n",
      "21510   NaN\n",
      "Name: days_employed, Length: 2174, dtype: float64\n"
     ]
    }
   ],
   "source": [
    "# Veamos la tabla filtrada con valores ausentes de la primera columna donde faltan datos\n",
    "print(credit_score.isna().sum())\n",
    "print()\n",
    "data_nan = credit_score['days_employed'].loc[credit_score['days_employed'].isna()]\n",
    "print(data_nan)\n"
   ]
  },
  {
   "cell_type": "markdown",
   "metadata": {},
   "source": [
    "\n",
    " \n",
    " Los valores ausentes de la columna presentan la nominación 'Nan', es decir que posee valores nulos, y si parecen simétricos, ya que los valores ausentes son iguales. Además, se puede afirmar que la cantidad de valores de este columna de cada fila es de 2174, y si tiene relación con las muestras que faltan del total general."
   ]
  },
  {
   "cell_type": "code",
   "execution_count": 7,
   "metadata": {},
   "outputs": [
    {
     "name": "stdout",
     "output_type": "stream",
     "text": [
      "12      NaN\n",
      "26      NaN\n",
      "29      NaN\n",
      "41      NaN\n",
      "55      NaN\n",
      "         ..\n",
      "21489   NaN\n",
      "21495   NaN\n",
      "21497   NaN\n",
      "21502   NaN\n",
      "21510   NaN\n",
      "Name: days_employed, Length: 2174, dtype: float64\n",
      "\n",
      "12      NaN\n",
      "26      NaN\n",
      "29      NaN\n",
      "41      NaN\n",
      "55      NaN\n",
      "         ..\n",
      "21489   NaN\n",
      "21495   NaN\n",
      "21497   NaN\n",
      "21502   NaN\n",
      "21510   NaN\n",
      "Name: total_income, Length: 2174, dtype: float64\n"
     ]
    }
   ],
   "source": [
    "# Apliquemos múltiples condiciones para filtrar datos y veamos el número de filas en la tabla filtrada.\n",
    "data_nan_total_days = credit_score['days_employed'].loc[credit_score['days_employed'].isna()]\n",
    "print(data_nan_total_days)\n",
    "print()\n",
    "data_nan_total_income = credit_score['total_income'].loc[credit_score['total_income'].isna()]\n",
    "print(data_nan_total_income)"
   ]
  },
  {
   "cell_type": "code",
   "execution_count": 8,
   "metadata": {},
   "outputs": [
    {
     "name": "stdout",
     "output_type": "stream",
     "text": [
      "10.099883855981417\n",
      "\n"
     ]
    }
   ],
   "source": [
    "total = 21525\n",
    "nan_avg_income = 2174 / total\n",
    "print(nan_avg_income * 100)\n",
    "print()\n",
    "nan_avg_days = 2174 / total\n"
   ]
  },
  {
   "cell_type": "markdown",
   "metadata": {},
   "source": [
    "**Conclusión intermedia**\n",
    "\n",
    "\n",
    "\n",
    "El número de filas de la tabla filtrada sí coincide con el número de valores ausentes, se puede concluir que estos valores ausentes pueden tener un mismo patrón, ya que tambien coinciden las filas donde se encuentran los valores ausentes de ambas columnas.\n",
    "\n",
    "\n",
    "\n",
    "\n",
    "\n",
    "el porcentaje de los valores ausentes en comparación al conjunto de datos completo no es de porción considerablemente grande, por este motivo, no sería necesario rellenarlos; sin embargo, la razón de estos valores ausentes, puede ser debido a la educación de los usuarios, la cantidad de hijos o el tipo de ingresos que estos poseen.\n",
    "\n",
    "\n",
    "\n",
    "\n",
    "Para los proximos pasos en esta investigación se averiguará como se relaciona los datos de la columna de tipo de ingreso con los valores ausentes en estas columnas."
   ]
  },
  {
   "cell_type": "code",
   "execution_count": 9,
   "metadata": {},
   "outputs": [],
   "source": [
    "# Vamos a investigar a los clientes que no tienen datos sobre la característica identificada y la columna con los valores ausentes\n",
    "distribución = credit_score['income_type'].loc[credit_score['total_income'].isna()].value_counts(normalize=True)"
   ]
  },
  {
   "cell_type": "code",
   "execution_count": 10,
   "metadata": {},
   "outputs": [
    {
     "name": "stdout",
     "output_type": "stream",
     "text": [
      "employee         0.508280\n",
      "business         0.233671\n",
      "retiree          0.189972\n",
      "civil servant    0.067617\n",
      "entrepreneur     0.000460\n",
      "Name: income_type, dtype: float64\n"
     ]
    }
   ],
   "source": [
    "# Comprobación de la distribución\n",
    "print(distribución)\n"
   ]
  },
  {
   "cell_type": "markdown",
   "metadata": {},
   "source": [
    "\n",
    "\n",
    "**Posibles razones por las que hay valores ausentes en los datos**\n",
    "\n",
    "\n",
    "\n",
    "Se puede observar que en la columna 'income_type', la cantidad de valores ausentes coincide con la de la tabla filtrada, una razón para la que estos valores ausentes aparezcan en el dataframe, podría ser por el tipo de ingresos que tenían, sin embargo, se puede observar que los tipos de ingresos donde se encuentran los valores ausentes, varían, es decir, no hay ningun patrón en aquella columna.\n",
    "\n"
   ]
  },
  {
   "cell_type": "code",
   "execution_count": 11,
   "metadata": {},
   "outputs": [
    {
     "name": "stdout",
     "output_type": "stream",
     "text": [
      "       children  days_employed  dob_years            education  education_id  \\\n",
      "12            0            NaN         65  secondary education             1   \n",
      "26            0            NaN         41  secondary education             1   \n",
      "29            0            NaN         63  secondary education             1   \n",
      "41            0            NaN         50  secondary education             1   \n",
      "55            0            NaN         54  secondary education             1   \n",
      "...         ...            ...        ...                  ...           ...   \n",
      "21489         2            NaN         47  Secondary Education             1   \n",
      "21495         1            NaN         50  secondary education             1   \n",
      "21497         0            NaN         48    BACHELOR'S DEGREE             0   \n",
      "21502         1            NaN         42  secondary education             1   \n",
      "21510         2            NaN         28  secondary education             1   \n",
      "\n",
      "           family_status  family_status_id gender    income_type  debt  \\\n",
      "12     civil partnership                 1      M        retiree     0   \n",
      "26               married                 0      M  civil servant     0   \n",
      "29             unmarried                 4      F        retiree     0   \n",
      "41               married                 0      F  civil servant     0   \n",
      "55     civil partnership                 1      F        retiree     1   \n",
      "...                  ...               ...    ...            ...   ...   \n",
      "21489            married                 0      M       business     0   \n",
      "21495  civil partnership                 1      F       employee     0   \n",
      "21497            married                 0      F       business     0   \n",
      "21502            married                 0      F       employee     0   \n",
      "21510            married                 0      F       employee     0   \n",
      "\n",
      "       total_income                   purpose  \n",
      "12              NaN         to have a wedding  \n",
      "26              NaN                 education  \n",
      "29              NaN    building a real estate  \n",
      "41              NaN  second-hand car purchase  \n",
      "55              NaN         to have a wedding  \n",
      "...             ...                       ...  \n",
      "21489           NaN         purchase of a car  \n",
      "21495           NaN          wedding ceremony  \n",
      "21497           NaN       building a property  \n",
      "21502           NaN    building a real estate  \n",
      "21510           NaN              car purchase  \n",
      "\n",
      "[2174 rows x 12 columns]\n"
     ]
    }
   ],
   "source": [
    "# Comprobando la distribución en el conjunto de datos entero\n",
    "data_nan_total = credit_score.loc[(credit_score['days_employed'].isna())&(credit_score['total_income'].isna())]\n",
    "print(data_nan_total)\n"
   ]
  },
  {
   "cell_type": "markdown",
   "metadata": {},
   "source": [
    "**Conclusión intermedia**\n",
    "\n",
    "\n",
    "\n",
    "\n",
    "La distribución sí es similar a la de la tabla filtrada, esto puede significar, que podría haber algún patrón por lo cual existen los valores ausentes en el dataframe; por este motivo, se debe analizar otras columnas para encontrar el patrón de los valores ausentes.\n",
    "\n",
    "\n"
   ]
  },
  {
   "cell_type": "code",
   "execution_count": 12,
   "metadata": {},
   "outputs": [
    {
     "name": "stdout",
     "output_type": "stream",
     "text": [
      "secondary education    0.647654\n",
      "bachelor's degree      0.228151\n",
      "SECONDARY EDUCATION    0.030819\n",
      "Secondary Education    0.029899\n",
      "some college           0.025299\n",
      "Bachelor's Degree      0.011500\n",
      "BACHELOR'S DEGREE      0.010580\n",
      "primary education      0.008740\n",
      "SOME COLLEGE           0.003220\n",
      "Some College           0.003220\n",
      "PRIMARY EDUCATION      0.000460\n",
      "Primary Education      0.000460\n",
      "Name: education, dtype: float64\n"
     ]
    }
   ],
   "source": [
    "# Comprueba otras razones y patrones que podrían llevar a valores ausentes\n",
    "print(credit_score['education'].loc[credit_score['days_employed'].isna()].value_counts(normalize=True))\n"
   ]
  },
  {
   "cell_type": "markdown",
   "metadata": {},
   "source": [
    "**Conclusión intermedia**\n",
    "\n"
   ]
  },
  {
   "cell_type": "code",
   "execution_count": 13,
   "metadata": {
    "scrolled": true
   },
   "outputs": [
    {
     "name": "stdout",
     "output_type": "stream",
     "text": [
      "married              0.575145\n",
      "civil partnership    0.194053\n",
      "unmarried            0.130685\n",
      "divorced             0.055517\n",
      "widow / widower      0.044599\n",
      "Name: family_status, dtype: float64\n",
      "\n",
      "married              0.575836\n",
      "civil partnership    0.193013\n",
      "unmarried            0.130484\n",
      "divorced             0.055966\n",
      "widow / widower      0.044701\n",
      "Name: family_status, dtype: float64\n",
      "\n",
      "secondary education    0.638792\n",
      "bachelor's degree      0.219187\n",
      "SECONDARY EDUCATION    0.035865\n",
      "Secondary Education    0.033031\n",
      "some college           0.031034\n",
      "BACHELOR'S DEGREE      0.012729\n",
      "Bachelor's Degree      0.012451\n",
      "primary education      0.011614\n",
      "Some College           0.002184\n",
      "SOME COLLEGE           0.001347\n",
      "PRIMARY EDUCATION      0.000790\n",
      "Primary Education      0.000697\n",
      "graduate degree        0.000186\n",
      "GRADUATE DEGREE        0.000046\n",
      "Graduate Degree        0.000046\n",
      "Name: education, dtype: float64\n",
      "\n",
      "secondary education    0.637796\n",
      "bachelor's degree      0.218180\n",
      "SECONDARY EDUCATION    0.036432\n",
      "Secondary Education    0.033383\n",
      "some college           0.031678\n",
      "BACHELOR'S DEGREE      0.012971\n",
      "Bachelor's Degree      0.012557\n",
      "primary education      0.011937\n",
      "Some College           0.002067\n",
      "SOME COLLEGE           0.001137\n",
      "PRIMARY EDUCATION      0.000827\n",
      "Primary Education      0.000723\n",
      "graduate degree        0.000207\n",
      "GRADUATE DEGREE        0.000052\n",
      "Graduate Degree        0.000052\n",
      "Name: education, dtype: float64\n"
     ]
    }
   ],
   "source": [
    "# Comprobación de otros patrones: explica cuáles\n",
    "print(credit_score['family_status'].value_counts(normalize=True))\n",
    "print()\n",
    "print(credit_score.dropna()['family_status'].value_counts(normalize=True))\n",
    "print()\n",
    "print(credit_score['education'].value_counts(normalize=True))\n",
    "print()\n",
    "print(credit_score.dropna()['education'].value_counts(normalize=True))"
   ]
  },
  {
   "cell_type": "markdown",
   "metadata": {},
   "source": [
    "**Conclusiones**\n",
    "\n",
    "\n",
    "\n",
    "Se encontró algunos patrones en las columnas del estado familiar y educación, siendo estas que los usuarios con educación secundaria y los que estan casados, son los que más valores ausentes se pudo observar; por lo tanto, estos valores ausentes pueden tener algun significado a partir de los datos de aquellas columnas. Sin emargo, tambien se pudo observar, que la distribución de los datos de las columnas con y sin valores ausentes es practicamente la misma.\n",
    "\n",
    "\n",
    "\n",
    "Los valores ausentes se abordarán de una manera cuidadose, ya que un cambio puede afectar considerablemente los valores de las otras categorías, por este motivo, se debe analizar otros factores para poder tomar la decisión de rellenar dichos valores por otros.\n",
    "\n",
    "\n",
    "\n",
    "Los próximos pasos en el preprocesamiento de datos, serán observar si algunas columnas poseen datos duplicados, para eliminarlos; si otras columnas poseen valores atípicos que pueden ser confusos y complicar la investigación, para solucionarlos; o si existen otros errores en los datos de las categorías como palabras mal escritas, o datos irrlelevantes."
   ]
  },
  {
   "cell_type": "markdown",
   "metadata": {},
   "source": [
    "## Transformación de datos <a id='data_transformation'></a>\n",
    "\n"
   ]
  },
  {
   "cell_type": "code",
   "execution_count": 14,
   "metadata": {
    "scrolled": true
   },
   "outputs": [
    {
     "name": "stdout",
     "output_type": "stream",
     "text": [
      "secondary education    13750\n",
      "bachelor's degree       4718\n",
      "SECONDARY EDUCATION      772\n",
      "Secondary Education      711\n",
      "some college             668\n",
      "BACHELOR'S DEGREE        274\n",
      "Bachelor's Degree        268\n",
      "primary education        250\n",
      "Some College              47\n",
      "SOME COLLEGE              29\n",
      "PRIMARY EDUCATION         17\n",
      "Primary Education         15\n",
      "graduate degree            4\n",
      "GRADUATE DEGREE            1\n",
      "Graduate Degree            1\n",
      "Name: education, dtype: int64\n"
     ]
    }
   ],
   "source": [
    "# Veamos todos los valores en la columna de educación para verificar si será necesario corregir la ortografía y qué habrá que corregir exactamente\n",
    "print(credit_score['education'].value_counts())"
   ]
  },
  {
   "cell_type": "code",
   "execution_count": 15,
   "metadata": {
    "scrolled": true
   },
   "outputs": [],
   "source": [
    "# Arregla los registros si es necesario\n",
    "credit_score['education'] = credit_score['education'].str.lower()"
   ]
  },
  {
   "cell_type": "code",
   "execution_count": 16,
   "metadata": {},
   "outputs": [
    {
     "name": "stdout",
     "output_type": "stream",
     "text": [
      "secondary education    15233\n",
      "bachelor's degree       5260\n",
      "some college             744\n",
      "primary education        282\n",
      "graduate degree            6\n",
      "Name: education, dtype: int64\n"
     ]
    }
   ],
   "source": [
    "# Comprobar todos los valores en la columna para asegurarnos de que los hayamos corregido\n",
    "print(credit_score['education'].value_counts())\n"
   ]
  },
  {
   "cell_type": "code",
   "execution_count": 17,
   "metadata": {},
   "outputs": [
    {
     "name": "stdout",
     "output_type": "stream",
     "text": [
      " 0     14149\n",
      " 1      4818\n",
      " 2      2055\n",
      " 3       330\n",
      " 20       76\n",
      "-1        47\n",
      " 4        41\n",
      " 5         9\n",
      "Name: children, dtype: int64\n"
     ]
    }
   ],
   "source": [
    "# Veamos la distribución de los valores en la columna `children`\n",
    "print(credit_score['children'].value_counts())"
   ]
  },
  {
   "cell_type": "markdown",
   "metadata": {},
   "source": [
    "\n",
    "\n",
    "Se encontró un valor extraño en la columna 'children', el cual es que hay un dato de una cantidad negativa, la cual no tiene sentido, ya que estamos hablando de una cantidad de hijos en este caso, y no puede ser negativa; aunque una interpretación podría ser que los usuarios con este dato, desafortunademente perdieron un hijo, pero este dato no nos ayuda en la investigación, y ocupa un porcentaje de alrededor de 0.22% de todos los datos ; por este motivo, mi decisión será cambiar el valor de -1 por el valor 0, para poder facilitar la investigación. Asimismo, se puede observar que tenemos un dato de 20 hijos lo que no hace mucho sentido, ya que es una cifra excesiva y sin mucho sentido, por este motivo, se debe corregir reemplazando sus valores por los del máximo valor que si tiene sentido, es decir, 5. "
   ]
  },
  {
   "cell_type": "code",
   "execution_count": 18,
   "metadata": {},
   "outputs": [],
   "source": [
    "# [arregla los datos según tu decisión]\n",
    "credit_score['children'] = credit_score['children'].replace(-1, 0)\n",
    "credit_score['children'] = credit_score['children'].replace(20, 5)"
   ]
  },
  {
   "cell_type": "code",
   "execution_count": 19,
   "metadata": {},
   "outputs": [
    {
     "name": "stdout",
     "output_type": "stream",
     "text": [
      "0    14196\n",
      "1     4818\n",
      "2     2055\n",
      "3      330\n",
      "5       85\n",
      "4       41\n",
      "Name: children, dtype: int64\n"
     ]
    }
   ],
   "source": [
    "# Comprobar la columna `children` de nuevo para asegurarnos de que todo está arreglado\n",
    "print(credit_score['children'].value_counts())\n"
   ]
  },
  {
   "cell_type": "code",
   "execution_count": 20,
   "metadata": {},
   "outputs": [
    {
     "name": "stdout",
     "output_type": "stream",
     "text": [
      "-327.685916     1\n",
      "-1580.622577    1\n",
      "-4122.460569    1\n",
      "-2828.237691    1\n",
      "-2636.090517    1\n",
      "               ..\n",
      "-7120.517564    1\n",
      "-2146.884040    1\n",
      "-881.454684     1\n",
      "-794.666350     1\n",
      "-3382.113891    1\n",
      "Name: days_employed, Length: 19351, dtype: int64\n",
      "\n",
      "15906\n",
      "\n",
      "3445\n",
      "\n",
      "0.8219730246498889\n"
     ]
    }
   ],
   "source": [
    "# Encuentra datos problemáticos en `days_employed`, si existen, y calcula el porcentaje\n",
    "print(credit_score['days_employed'].value_counts())\n",
    "print()\n",
    "print(credit_score['days_employed'][credit_score['days_employed'] < 0].count())\n",
    "print()\n",
    "print(credit_score['days_employed'][credit_score['days_employed'] > 0].count())\n",
    "print()\n",
    "print((credit_score['days_employed'][credit_score['days_employed'] < 0].count()) / 19351)"
   ]
  },
  {
   "cell_type": "markdown",
   "metadata": {},
   "source": [
    "\n",
    "\n",
    "Se puede observar que la cantidad de datos problemáticos equivale al 82.2%, es decir, es alta, esto puede ser a que hubo un problema técnico al momento de colocar los datos. Estos datos de a columna 'days_employed' posee valores negativos, unos 15906 para ser más exactos, lo que no tiene sentido, ya que este dato es la experiencia laboral en días, y que haya números negativos no tiene mucho sentido; por este motivo, una solución sería cambiar estos números negativos a positivos, para poder solucionar el problema."
   ]
  },
  {
   "cell_type": "code",
   "execution_count": 21,
   "metadata": {},
   "outputs": [],
   "source": [
    "# Aborda los valores problemáticos, si existen.\n",
    "num_negativos = credit_score['days_employed'][credit_score['days_employed'] < 0]\n",
    "credit_score['days_employed'] = num_negativos * -1\n"
   ]
  },
  {
   "cell_type": "code",
   "execution_count": 22,
   "metadata": {},
   "outputs": [
    {
     "name": "stdout",
     "output_type": "stream",
     "text": [
      "142.276217     1\n",
      "8615.745089    1\n",
      "3650.076979    1\n",
      "2358.122341    1\n",
      "2569.204627    1\n",
      "              ..\n",
      "2152.475526    1\n",
      "6219.157426    1\n",
      "5873.586442    1\n",
      "3355.260838    1\n",
      "1636.419775    1\n",
      "Name: days_employed, Length: 15906, dtype: int64\n"
     ]
    }
   ],
   "source": [
    "# Comprueba el resultado - asegúrate de que esté arreglado\n",
    "print(credit_score['days_employed'].value_counts())"
   ]
  },
  {
   "cell_type": "code",
   "execution_count": 23,
   "metadata": {
    "scrolled": true
   },
   "outputs": [
    {
     "name": "stdout",
     "output_type": "stream",
     "text": [
      "35    617\n",
      "40    609\n",
      "41    607\n",
      "34    603\n",
      "38    598\n",
      "42    597\n",
      "33    581\n",
      "39    573\n",
      "31    560\n",
      "36    555\n",
      "44    547\n",
      "29    545\n",
      "30    540\n",
      "48    538\n",
      "37    537\n",
      "50    514\n",
      "43    513\n",
      "32    510\n",
      "49    508\n",
      "28    503\n",
      "45    497\n",
      "27    493\n",
      "56    487\n",
      "52    484\n",
      "47    480\n",
      "54    479\n",
      "46    475\n",
      "58    461\n",
      "57    460\n",
      "53    459\n",
      "51    448\n",
      "59    444\n",
      "55    443\n",
      "26    408\n",
      "60    377\n",
      "25    357\n",
      "61    355\n",
      "62    352\n",
      "63    269\n",
      "64    265\n",
      "24    264\n",
      "23    254\n",
      "65    194\n",
      "66    183\n",
      "22    183\n",
      "67    167\n",
      "21    111\n",
      "0     101\n",
      "68     99\n",
      "69     85\n",
      "70     65\n",
      "71     58\n",
      "20     51\n",
      "72     33\n",
      "19     14\n",
      "73      8\n",
      "74      6\n",
      "75      1\n",
      "Name: dob_years, dtype: int64\n"
     ]
    }
   ],
   "source": [
    "# Revisa `dob_years` en busca de valores sospechosos y cuenta el porcentaje\n",
    "print(credit_score['dob_years'].value_counts())\n"
   ]
  },
  {
   "cell_type": "markdown",
   "metadata": {},
   "source": [
    "\n",
    "\n",
    "Se pudo encontrar un dato extraño en la columna 'dob_years' el cual es 0, el cual no tiene sentido, debido a que estamos hablando de las edades de los usuarios, y la edad 0, es mas bien para los recien nacidos, lo más probable es que los usuarios se hayan olvidado de responder esa parte. Este dato equivale aproximadamente al 0.47% de los totales de esa columna; por este motivo, para solucionar este error por la edad más común, que sería 35 años"
   ]
  },
  {
   "cell_type": "code",
   "execution_count": 24,
   "metadata": {},
   "outputs": [],
   "source": [
    "# Resuelve los problemas en la columna `dob_years`, si existen\n",
    "credit_score['dob_years'] = credit_score['dob_years'].replace(0, 35)"
   ]
  },
  {
   "cell_type": "code",
   "execution_count": 25,
   "metadata": {},
   "outputs": [
    {
     "name": "stdout",
     "output_type": "stream",
     "text": [
      "35    718\n",
      "40    609\n",
      "41    607\n",
      "34    603\n",
      "38    598\n",
      "42    597\n",
      "33    581\n",
      "39    573\n",
      "31    560\n",
      "36    555\n",
      "44    547\n",
      "29    545\n",
      "30    540\n",
      "48    538\n",
      "37    537\n",
      "50    514\n",
      "43    513\n",
      "32    510\n",
      "49    508\n",
      "28    503\n",
      "45    497\n",
      "27    493\n",
      "56    487\n",
      "52    484\n",
      "47    480\n",
      "54    479\n",
      "46    475\n",
      "58    461\n",
      "57    460\n",
      "53    459\n",
      "51    448\n",
      "59    444\n",
      "55    443\n",
      "26    408\n",
      "60    377\n",
      "25    357\n",
      "61    355\n",
      "62    352\n",
      "63    269\n",
      "64    265\n",
      "24    264\n",
      "23    254\n",
      "65    194\n",
      "22    183\n",
      "66    183\n",
      "67    167\n",
      "21    111\n",
      "68     99\n",
      "69     85\n",
      "70     65\n",
      "71     58\n",
      "20     51\n",
      "72     33\n",
      "19     14\n",
      "73      8\n",
      "74      6\n",
      "75      1\n",
      "Name: dob_years, dtype: int64\n"
     ]
    }
   ],
   "source": [
    "# Comprueba el resultado - asegúrate de que esté arreglado\n",
    "print(credit_score['dob_years'].value_counts())"
   ]
  },
  {
   "cell_type": "code",
   "execution_count": 26,
   "metadata": {},
   "outputs": [
    {
     "name": "stdout",
     "output_type": "stream",
     "text": [
      "married              12380\n",
      "civil partnership     4177\n",
      "unmarried             2813\n",
      "divorced              1195\n",
      "widow / widower        960\n",
      "Name: family_status, dtype: int64\n"
     ]
    }
   ],
   "source": [
    "# Veamos los valores de la columna\n",
    "print(credit_score['family_status'].value_counts())\n"
   ]
  },
  {
   "cell_type": "code",
   "execution_count": 27,
   "metadata": {},
   "outputs": [],
   "source": [
    "# Aborda los valores problemáticos en `family_status`, si existen\n",
    "credit_score['family_status'] = credit_score['family_status'].replace('widow / widower', 'widow')\n"
   ]
  },
  {
   "cell_type": "code",
   "execution_count": 28,
   "metadata": {},
   "outputs": [
    {
     "name": "stdout",
     "output_type": "stream",
     "text": [
      "married              12380\n",
      "civil partnership     4177\n",
      "unmarried             2813\n",
      "divorced              1195\n",
      "widow                  960\n",
      "Name: family_status, dtype: int64\n"
     ]
    }
   ],
   "source": [
    "# Comprueba el resultado - asegúrate de que esté arreglado\n",
    "print(credit_score['family_status'].value_counts())"
   ]
  },
  {
   "cell_type": "code",
   "execution_count": 29,
   "metadata": {},
   "outputs": [
    {
     "name": "stdout",
     "output_type": "stream",
     "text": [
      "F      14236\n",
      "M       7288\n",
      "XNA        1\n",
      "Name: gender, dtype: int64\n"
     ]
    }
   ],
   "source": [
    "# Veamos los valores en la columna\n",
    "print(credit_score['gender'].value_counts())"
   ]
  },
  {
   "cell_type": "code",
   "execution_count": 30,
   "metadata": {},
   "outputs": [],
   "source": [
    "# Aborda los valores problemáticos, si existen\n",
    "credit_score['gender'] = credit_score['gender'].replace('XNA', 'indefinido')"
   ]
  },
  {
   "cell_type": "code",
   "execution_count": 31,
   "metadata": {},
   "outputs": [
    {
     "name": "stdout",
     "output_type": "stream",
     "text": [
      "F             14236\n",
      "M              7288\n",
      "indefinido        1\n",
      "Name: gender, dtype: int64\n"
     ]
    }
   ],
   "source": [
    "# Comprueba el resultado - asegúrate de que esté arreglado\n",
    "print(credit_score['gender'].value_counts())\n"
   ]
  },
  {
   "cell_type": "code",
   "execution_count": 32,
   "metadata": {},
   "outputs": [
    {
     "name": "stdout",
     "output_type": "stream",
     "text": [
      "employee                       11119\n",
      "business                        5085\n",
      "retiree                         3856\n",
      "civil servant                   1459\n",
      "unemployed                         2\n",
      "entrepreneur                       2\n",
      "student                            1\n",
      "paternity / maternity leave        1\n",
      "Name: income_type, dtype: int64\n"
     ]
    }
   ],
   "source": [
    "# Veamos los valores en la columna\n",
    "print(credit_score['income_type'].value_counts())"
   ]
  },
  {
   "cell_type": "code",
   "execution_count": 33,
   "metadata": {},
   "outputs": [],
   "source": [
    "# Aborda los valores problemáticos, si existen\n",
    "credit_score['income_type'] = credit_score['income_type'].replace('paternity / maternity leave', 'parental leave')"
   ]
  },
  {
   "cell_type": "code",
   "execution_count": 34,
   "metadata": {},
   "outputs": [
    {
     "name": "stdout",
     "output_type": "stream",
     "text": [
      "employee          11119\n",
      "business           5085\n",
      "retiree            3856\n",
      "civil servant      1459\n",
      "unemployed            2\n",
      "entrepreneur          2\n",
      "student               1\n",
      "parental leave        1\n",
      "Name: income_type, dtype: int64\n"
     ]
    }
   ],
   "source": [
    "# Comprueba el resultado - asegúrate de que esté arreglado\n",
    "print(credit_score['income_type'].value_counts())\n"
   ]
  },
  {
   "cell_type": "code",
   "execution_count": 35,
   "metadata": {},
   "outputs": [
    {
     "name": "stdout",
     "output_type": "stream",
     "text": [
      "71\n"
     ]
    }
   ],
   "source": [
    "# Comprobar los duplicados\n",
    "print(credit_score.duplicated().sum())\n"
   ]
  },
  {
   "cell_type": "code",
   "execution_count": 36,
   "metadata": {},
   "outputs": [],
   "source": [
    "# Aborda los duplicados, si existen\n",
    "credit_score = credit_score.drop_duplicates().reset_index(drop=True)"
   ]
  },
  {
   "cell_type": "code",
   "execution_count": 37,
   "metadata": {},
   "outputs": [
    {
     "name": "stdout",
     "output_type": "stream",
     "text": [
      "0\n"
     ]
    }
   ],
   "source": [
    "# Última comprobación para ver si tenemos duplicados\n",
    "print(credit_score.duplicated().sum())\n"
   ]
  },
  {
   "cell_type": "code",
   "execution_count": 38,
   "metadata": {},
   "outputs": [
    {
     "name": "stdout",
     "output_type": "stream",
     "text": [
      "(21454, 12)\n"
     ]
    }
   ],
   "source": [
    "# Comprueba el tamaño del conjunto de datos que tienes ahora, después de haber ejecutado estas primeras manipulaciones\n",
    "print(credit_score.shape)"
   ]
  },
  {
   "cell_type": "markdown",
   "metadata": {},
   "source": [
    "\n",
    "\n",
    "El conjuntos de datos cambió un poco, de 21525 filas, sin las duplicadas ahora son 21454, es decir, cambió un 0.33% en eltamaño del dataframe, lo que no es un cambio considerable, considerando los cambios anteriormente realizados.\n",
    "\n",
    "\n"
   ]
  },
  {
   "cell_type": "markdown",
   "metadata": {},
   "source": [
    "# Trabajar con valores ausentes"
   ]
  },
  {
   "cell_type": "markdown",
   "metadata": {},
   "source": [
    "\n",
    "\n",
    "Se decidió trabajar con los diccionarios de los ids de las columnas de family_status_id y education_id, utilizando como claves los datos de las columnas family status, y education; debido a que son datos que son muy útiles para la investigación, ya que el estado civil y la educación pueden influenciar en el incumplimiento de pago de un préstamo."
   ]
  },
  {
   "cell_type": "code",
   "execution_count": 39,
   "metadata": {},
   "outputs": [],
   "source": [
    "# Encuentra los diccionarios\n",
    "education = {'bachelor\\'s degree': 0, 'secondary education': 1, 'some college': 2, 'primary education': 3, 'graduate college': 4}\n",
    "family_status = {'married': 0, 'civil partnership': 1, 'widow': 2, 'divorced': 3, 'unmarried': 4}"
   ]
  },
  {
   "cell_type": "markdown",
   "metadata": {},
   "source": [
    "### Restaurar valores ausentes en `total_income` <a id='missing_values_total_income'></a>"
   ]
  },
  {
   "cell_type": "markdown",
   "metadata": {},
   "source": [
    "\n",
    "\n",
    "\n",
    "Las columnas que presentan valores ausentes en el dataframe, son la columna 'total_income' y 'days_employed'; para solucionarlo, se deberá realizar una función para cada columna, para ver si reemplazarlos por la media o mediana de los otros datos de la columna.\n",
    "\n",
    "\n",
    "\n"
   ]
  },
  {
   "cell_type": "code",
   "execution_count": 40,
   "metadata": {},
   "outputs": [],
   "source": [
    "# Vamos a escribir una función que calcule la categoría de edad\n",
    "def age_group(year):\n",
    "    if year <= 18:\n",
    "        return 'children'\n",
    "    if year <= 64:\n",
    "        return 'adult'\n",
    "    return 'retired'\n",
    "    "
   ]
  },
  {
   "cell_type": "code",
   "execution_count": 41,
   "metadata": {},
   "outputs": [
    {
     "name": "stdout",
     "output_type": "stream",
     "text": [
      "adult\n"
     ]
    }
   ],
   "source": [
    "# Prueba si la función funciona bien\n",
    "print(age_group(35))"
   ]
  },
  {
   "cell_type": "code",
   "execution_count": 42,
   "metadata": {},
   "outputs": [],
   "source": [
    "# Crear una nueva columna basada en la función\n",
    "credit_score['age_group'] = credit_score['dob_years'].apply(age_group)\n"
   ]
  },
  {
   "cell_type": "code",
   "execution_count": 43,
   "metadata": {},
   "outputs": [
    {
     "name": "stdout",
     "output_type": "stream",
     "text": [
      "       children  days_employed  dob_years            education  education_id  \\\n",
      "0             1    8437.673028         42    bachelor's degree             0   \n",
      "1             1    4024.803754         36  secondary education             1   \n",
      "2             0    5623.422610         33  secondary education             1   \n",
      "3             3    4124.747207         32  secondary education             1   \n",
      "4             0            NaN         53  secondary education             1   \n",
      "...         ...            ...        ...                  ...           ...   \n",
      "21449         1    4529.316663         43  secondary education             1   \n",
      "21450         0            NaN         67  secondary education             1   \n",
      "21451         1    2113.346888         38  secondary education             1   \n",
      "21452         3    3112.481705         38  secondary education             1   \n",
      "21453         2    1984.507589         40  secondary education             1   \n",
      "\n",
      "           family_status  family_status_id gender income_type  debt  \\\n",
      "0                married                 0      F    employee     0   \n",
      "1                married                 0      F    employee     0   \n",
      "2                married                 0      M    employee     0   \n",
      "3                married                 0      M    employee     0   \n",
      "4      civil partnership                 1      F     retiree     0   \n",
      "...                  ...               ...    ...         ...   ...   \n",
      "21449  civil partnership                 1      F    business     0   \n",
      "21450            married                 0      F     retiree     0   \n",
      "21451  civil partnership                 1      M    employee     1   \n",
      "21452            married                 0      M    employee     1   \n",
      "21453            married                 0      F    employee     0   \n",
      "\n",
      "       total_income                  purpose age_group  \n",
      "0         40620.102    purchase of the house     adult  \n",
      "1         17932.802             car purchase     adult  \n",
      "2         23341.752    purchase of the house     adult  \n",
      "3         42820.568  supplementary education     adult  \n",
      "4         25378.572        to have a wedding     adult  \n",
      "...             ...                      ...       ...  \n",
      "21449     35966.698     housing transactions     adult  \n",
      "21450     24959.969        purchase of a car   retired  \n",
      "21451     14347.610                 property     adult  \n",
      "21452     39054.888        buying my own car     adult  \n",
      "21453     13127.587             to buy a car     adult  \n",
      "\n",
      "[21454 rows x 13 columns]\n"
     ]
    }
   ],
   "source": [
    "# Comprobar cómo los valores en la nueva columna\n",
    "print(credit_score)\n"
   ]
  },
  {
   "cell_type": "code",
   "execution_count": 44,
   "metadata": {},
   "outputs": [
    {
     "name": "stdout",
     "output_type": "stream",
     "text": [
      "    children  days_employed  dob_years            education  education_id  \\\n",
      "0          1    8437.673028         42    bachelor's degree             0   \n",
      "1          1    4024.803754         36  secondary education             1   \n",
      "2          0    5623.422610         33  secondary education             1   \n",
      "3          3    4124.747207         32  secondary education             1   \n",
      "5          0     926.185831         27    bachelor's degree             0   \n",
      "6          0    2879.202052         43    bachelor's degree             0   \n",
      "7          0     152.779569         50  secondary education             1   \n",
      "8          2    6929.865299         35    bachelor's degree             0   \n",
      "9          0    2188.756445         41  secondary education             1   \n",
      "10         2    4171.483647         36    bachelor's degree             0   \n",
      "11         0     792.701887         40  secondary education             1   \n",
      "13         0    1846.641941         54         some college             2   \n",
      "14         0    1844.956182         56    bachelor's degree             0   \n",
      "15         1     972.364419         26  secondary education             1   \n",
      "16         0    1719.934226         35  secondary education             1   \n",
      "\n",
      "        family_status  family_status_id gender income_type  debt  \\\n",
      "0             married                 0      F    employee     0   \n",
      "1             married                 0      F    employee     0   \n",
      "2             married                 0      M    employee     0   \n",
      "3             married                 0      M    employee     0   \n",
      "5   civil partnership                 1      M    business     0   \n",
      "6             married                 0      F    business     0   \n",
      "7             married                 0      M    employee     0   \n",
      "8   civil partnership                 1      F    employee     0   \n",
      "9             married                 0      M    employee     0   \n",
      "10            married                 0      M    business     0   \n",
      "11            married                 0      F    employee     0   \n",
      "13            married                 0      F    employee     0   \n",
      "14  civil partnership                 1      F    business     1   \n",
      "15            married                 0      F    employee     0   \n",
      "16            married                 0      F    employee     0   \n",
      "\n",
      "    total_income                              purpose age_group  \n",
      "0      40620.102                purchase of the house     adult  \n",
      "1      17932.802                         car purchase     adult  \n",
      "2      23341.752                purchase of the house     adult  \n",
      "3      42820.568              supplementary education     adult  \n",
      "5      40922.170                purchase of the house     adult  \n",
      "6      38484.156                 housing transactions     adult  \n",
      "7      21731.829                            education     adult  \n",
      "8      15337.093                     having a wedding     adult  \n",
      "9      23108.150  purchase of the house for my family     adult  \n",
      "10     18230.959                      buy real estate     adult  \n",
      "11     12331.077           buy commercial real estate     adult  \n",
      "13     20873.317                         car purchase     adult  \n",
      "14     26420.466          buy residential real estate     adult  \n",
      "15     18691.345         construction of own property     adult  \n",
      "16     46272.433                             property     adult  \n"
     ]
    }
   ],
   "source": [
    "# Crea una tabla sin valores ausentes y muestra algunas de sus filas para asegurarte de que se ve bien\n",
    "print(credit_score.dropna().head(15))\n",
    "\n",
    "    "
   ]
  },
  {
   "cell_type": "code",
   "execution_count": 45,
   "metadata": {},
   "outputs": [
    {
     "name": "stdout",
     "output_type": "stream",
     "text": [
      "26787.568354658677\n"
     ]
    }
   ],
   "source": [
    "# Examina los valores medios de los ingresos en función de los factores que identificaste\n",
    "income_avg = credit_score['total_income'].mean()\n",
    "print(income_avg)"
   ]
  },
  {
   "cell_type": "code",
   "execution_count": 46,
   "metadata": {},
   "outputs": [
    {
     "name": "stdout",
     "output_type": "stream",
     "text": [
      "education\n",
      "bachelor's degree      33142.802434\n",
      "graduate degree        27960.024667\n",
      "primary education      21144.882211\n",
      "secondary education    24594.503037\n",
      "some college           29045.443644\n",
      "Name: total_income, dtype: float64\n"
     ]
    }
   ],
   "source": [
    "income_avg_educ = credit_score.groupby('education')['total_income'].mean()\n",
    "print(income_avg_educ)"
   ]
  },
  {
   "cell_type": "code",
   "execution_count": 47,
   "metadata": {
    "scrolled": true
   },
   "outputs": [
    {
     "name": "stdout",
     "output_type": "stream",
     "text": [
      "age_group\n",
      "adult      27019.065837\n",
      "retired    21542.650450\n",
      "Name: total_income, dtype: float64\n"
     ]
    }
   ],
   "source": [
    "income_avg_age = credit_score.groupby('age_group')['total_income'].mean()\n",
    "print(income_avg_age)"
   ]
  },
  {
   "cell_type": "code",
   "execution_count": 48,
   "metadata": {
    "scrolled": true
   },
   "outputs": [
    {
     "name": "stdout",
     "output_type": "stream",
     "text": [
      "income_type\n",
      "business          32386.793835\n",
      "civil servant     27343.729582\n",
      "employee          25820.841683\n",
      "entrepreneur      79866.103000\n",
      "parental leave     8612.661000\n",
      "retiree           21940.394503\n",
      "student           15712.260000\n",
      "unemployed        21014.360500\n",
      "Name: total_income, dtype: float64\n"
     ]
    }
   ],
   "source": [
    "income_avg_inc_type = credit_score.groupby('income_type')['total_income'].mean()\n",
    "print(income_avg_inc_type)"
   ]
  },
  {
   "cell_type": "code",
   "execution_count": 49,
   "metadata": {},
   "outputs": [
    {
     "name": "stdout",
     "output_type": "stream",
     "text": [
      "family_status\n",
      "civil partnership    26694.428597\n",
      "divorced             27189.354550\n",
      "married              27041.784689\n",
      "unmarried            26934.069805\n",
      "widow                22984.208556\n",
      "Name: total_income, dtype: float64\n"
     ]
    }
   ],
   "source": [
    "income_avg_fam_status = credit_score.groupby('family_status')['total_income'].mean()\n",
    "print(income_avg_fam_status)"
   ]
  },
  {
   "cell_type": "code",
   "execution_count": 50,
   "metadata": {
    "scrolled": true
   },
   "outputs": [
    {
     "name": "stdout",
     "output_type": "stream",
     "text": [
      "23202.87\n"
     ]
    }
   ],
   "source": [
    "# Examina los valores medianos de los ingresos en función de los factores que identificaste\n",
    "income_median = credit_score['total_income'].median()\n",
    "print(income_median)"
   ]
  },
  {
   "cell_type": "code",
   "execution_count": 51,
   "metadata": {
    "scrolled": true
   },
   "outputs": [
    {
     "name": "stdout",
     "output_type": "stream",
     "text": [
      "education\n",
      "bachelor's degree      28054.5310\n",
      "graduate degree        25161.5835\n",
      "primary education      18741.9760\n",
      "secondary education    21836.5830\n",
      "some college           25618.4640\n",
      "Name: total_income, dtype: float64\n"
     ]
    }
   ],
   "source": [
    "income_median_educ = credit_score.groupby('education')['total_income'].median()\n",
    "print(income_median_educ)"
   ]
  },
  {
   "cell_type": "code",
   "execution_count": 52,
   "metadata": {
    "scrolled": true
   },
   "outputs": [
    {
     "name": "stdout",
     "output_type": "stream",
     "text": [
      "age_group\n",
      "adult      23382.756\n",
      "retired    18471.391\n",
      "Name: total_income, dtype: float64\n"
     ]
    }
   ],
   "source": [
    "income_median_age = credit_score.groupby('age_group')['total_income'].median()\n",
    "print(income_median_age)"
   ]
  },
  {
   "cell_type": "code",
   "execution_count": 53,
   "metadata": {
    "scrolled": true
   },
   "outputs": [
    {
     "name": "stdout",
     "output_type": "stream",
     "text": [
      "income_type\n",
      "business          27577.2720\n",
      "civil servant     24071.6695\n",
      "employee          22815.1035\n",
      "entrepreneur      79866.1030\n",
      "parental leave     8612.6610\n",
      "retiree           18962.3180\n",
      "student           15712.2600\n",
      "unemployed        21014.3605\n",
      "Name: total_income, dtype: float64\n"
     ]
    }
   ],
   "source": [
    "income_median_inc_type = credit_score.groupby('income_type')['total_income'].median()\n",
    "print(income_median_inc_type)"
   ]
  },
  {
   "cell_type": "code",
   "execution_count": 54,
   "metadata": {},
   "outputs": [
    {
     "name": "stdout",
     "output_type": "stream",
     "text": [
      "family_status\n",
      "civil partnership    23186.534\n",
      "divorced             23515.096\n",
      "married              23389.540\n",
      "unmarried            23149.028\n",
      "widow                20514.190\n",
      "Name: total_income, dtype: float64\n"
     ]
    }
   ],
   "source": [
    "income_median_fam_status = credit_score.groupby('family_status')['total_income'].median()\n",
    "print(income_median_fam_status)"
   ]
  },
  {
   "cell_type": "markdown",
   "metadata": {},
   "source": [
    "\n",
    "\n",
    "Se realizó la comparación a dichos factores como la educación, el tipo de ingreso, el grupo de edad, y el estado civil; ya que pueden ser factores considerables para ser una razón por la que existen valores ausentes en el total de ingresos, debido a que muchos veces el ingreso se ve influenciado por la educación, la edad o el tipo de ingreso que cada persona posee.\n",
    "\n"
   ]
  },
  {
   "cell_type": "markdown",
   "metadata": {},
   "source": [
    "\n",
    "\n",
    "\n",
    "Se decidió utilizar la mediana, debido a que existen valores atípicos significantes en nuestro dataset, por este motivo, los valores ausentes se van a rellenar con la media de los datos de aquella columna."
   ]
  },
  {
   "cell_type": "code",
   "execution_count": 55,
   "metadata": {},
   "outputs": [],
   "source": [
    "#  Escribe una función que usaremos para completar los valores ausentes\n",
    "\n",
    "median_var = credit_score.groupby('family_status')['total_income'].transform('median')\n",
    "\n",
    "         \n",
    "    \n",
    "   \n",
    "\n",
    "    \n",
    "            \n",
    "     "
   ]
  },
  {
   "cell_type": "code",
   "execution_count": 56,
   "metadata": {},
   "outputs": [
    {
     "name": "stdout",
     "output_type": "stream",
     "text": [
      "0        23389.540\n",
      "1        23389.540\n",
      "2        23389.540\n",
      "3        23389.540\n",
      "4        23186.534\n",
      "           ...    \n",
      "21449    23186.534\n",
      "21450    23389.540\n",
      "21451    23186.534\n",
      "21452    23389.540\n",
      "21453    23389.540\n",
      "Name: total_income, Length: 21454, dtype: float64\n"
     ]
    }
   ],
   "source": [
    "print(median_var)"
   ]
  },
  {
   "cell_type": "code",
   "execution_count": 57,
   "metadata": {},
   "outputs": [],
   "source": [
    "# Aplícalo a cada fila\n",
    "credit_score['total_income'] = credit_score['total_income'].fillna(median_var)\n"
   ]
  },
  {
   "cell_type": "code",
   "execution_count": 58,
   "metadata": {},
   "outputs": [
    {
     "data": {
      "text/html": [
       "<div>\n",
       "<style scoped>\n",
       "    .dataframe tbody tr th:only-of-type {\n",
       "        vertical-align: middle;\n",
       "    }\n",
       "\n",
       "    .dataframe tbody tr th {\n",
       "        vertical-align: top;\n",
       "    }\n",
       "\n",
       "    .dataframe thead th {\n",
       "        text-align: right;\n",
       "    }\n",
       "</style>\n",
       "<table border=\"1\" class=\"dataframe\">\n",
       "  <thead>\n",
       "    <tr style=\"text-align: right;\">\n",
       "      <th></th>\n",
       "      <th>children</th>\n",
       "      <th>days_employed</th>\n",
       "      <th>dob_years</th>\n",
       "      <th>education</th>\n",
       "      <th>education_id</th>\n",
       "      <th>family_status</th>\n",
       "      <th>family_status_id</th>\n",
       "      <th>gender</th>\n",
       "      <th>income_type</th>\n",
       "      <th>debt</th>\n",
       "      <th>total_income</th>\n",
       "      <th>purpose</th>\n",
       "      <th>age_group</th>\n",
       "    </tr>\n",
       "  </thead>\n",
       "  <tbody>\n",
       "    <tr>\n",
       "      <th>0</th>\n",
       "      <td>1</td>\n",
       "      <td>8437.673028</td>\n",
       "      <td>42</td>\n",
       "      <td>bachelor's degree</td>\n",
       "      <td>0</td>\n",
       "      <td>married</td>\n",
       "      <td>0</td>\n",
       "      <td>F</td>\n",
       "      <td>employee</td>\n",
       "      <td>0</td>\n",
       "      <td>40620.102</td>\n",
       "      <td>purchase of the house</td>\n",
       "      <td>adult</td>\n",
       "    </tr>\n",
       "    <tr>\n",
       "      <th>1</th>\n",
       "      <td>1</td>\n",
       "      <td>4024.803754</td>\n",
       "      <td>36</td>\n",
       "      <td>secondary education</td>\n",
       "      <td>1</td>\n",
       "      <td>married</td>\n",
       "      <td>0</td>\n",
       "      <td>F</td>\n",
       "      <td>employee</td>\n",
       "      <td>0</td>\n",
       "      <td>17932.802</td>\n",
       "      <td>car purchase</td>\n",
       "      <td>adult</td>\n",
       "    </tr>\n",
       "    <tr>\n",
       "      <th>2</th>\n",
       "      <td>0</td>\n",
       "      <td>5623.422610</td>\n",
       "      <td>33</td>\n",
       "      <td>secondary education</td>\n",
       "      <td>1</td>\n",
       "      <td>married</td>\n",
       "      <td>0</td>\n",
       "      <td>M</td>\n",
       "      <td>employee</td>\n",
       "      <td>0</td>\n",
       "      <td>23341.752</td>\n",
       "      <td>purchase of the house</td>\n",
       "      <td>adult</td>\n",
       "    </tr>\n",
       "    <tr>\n",
       "      <th>3</th>\n",
       "      <td>3</td>\n",
       "      <td>4124.747207</td>\n",
       "      <td>32</td>\n",
       "      <td>secondary education</td>\n",
       "      <td>1</td>\n",
       "      <td>married</td>\n",
       "      <td>0</td>\n",
       "      <td>M</td>\n",
       "      <td>employee</td>\n",
       "      <td>0</td>\n",
       "      <td>42820.568</td>\n",
       "      <td>supplementary education</td>\n",
       "      <td>adult</td>\n",
       "    </tr>\n",
       "    <tr>\n",
       "      <th>4</th>\n",
       "      <td>0</td>\n",
       "      <td>NaN</td>\n",
       "      <td>53</td>\n",
       "      <td>secondary education</td>\n",
       "      <td>1</td>\n",
       "      <td>civil partnership</td>\n",
       "      <td>1</td>\n",
       "      <td>F</td>\n",
       "      <td>retiree</td>\n",
       "      <td>0</td>\n",
       "      <td>25378.572</td>\n",
       "      <td>to have a wedding</td>\n",
       "      <td>adult</td>\n",
       "    </tr>\n",
       "    <tr>\n",
       "      <th>5</th>\n",
       "      <td>0</td>\n",
       "      <td>926.185831</td>\n",
       "      <td>27</td>\n",
       "      <td>bachelor's degree</td>\n",
       "      <td>0</td>\n",
       "      <td>civil partnership</td>\n",
       "      <td>1</td>\n",
       "      <td>M</td>\n",
       "      <td>business</td>\n",
       "      <td>0</td>\n",
       "      <td>40922.170</td>\n",
       "      <td>purchase of the house</td>\n",
       "      <td>adult</td>\n",
       "    </tr>\n",
       "    <tr>\n",
       "      <th>6</th>\n",
       "      <td>0</td>\n",
       "      <td>2879.202052</td>\n",
       "      <td>43</td>\n",
       "      <td>bachelor's degree</td>\n",
       "      <td>0</td>\n",
       "      <td>married</td>\n",
       "      <td>0</td>\n",
       "      <td>F</td>\n",
       "      <td>business</td>\n",
       "      <td>0</td>\n",
       "      <td>38484.156</td>\n",
       "      <td>housing transactions</td>\n",
       "      <td>adult</td>\n",
       "    </tr>\n",
       "    <tr>\n",
       "      <th>7</th>\n",
       "      <td>0</td>\n",
       "      <td>152.779569</td>\n",
       "      <td>50</td>\n",
       "      <td>secondary education</td>\n",
       "      <td>1</td>\n",
       "      <td>married</td>\n",
       "      <td>0</td>\n",
       "      <td>M</td>\n",
       "      <td>employee</td>\n",
       "      <td>0</td>\n",
       "      <td>21731.829</td>\n",
       "      <td>education</td>\n",
       "      <td>adult</td>\n",
       "    </tr>\n",
       "    <tr>\n",
       "      <th>8</th>\n",
       "      <td>2</td>\n",
       "      <td>6929.865299</td>\n",
       "      <td>35</td>\n",
       "      <td>bachelor's degree</td>\n",
       "      <td>0</td>\n",
       "      <td>civil partnership</td>\n",
       "      <td>1</td>\n",
       "      <td>F</td>\n",
       "      <td>employee</td>\n",
       "      <td>0</td>\n",
       "      <td>15337.093</td>\n",
       "      <td>having a wedding</td>\n",
       "      <td>adult</td>\n",
       "    </tr>\n",
       "    <tr>\n",
       "      <th>9</th>\n",
       "      <td>0</td>\n",
       "      <td>2188.756445</td>\n",
       "      <td>41</td>\n",
       "      <td>secondary education</td>\n",
       "      <td>1</td>\n",
       "      <td>married</td>\n",
       "      <td>0</td>\n",
       "      <td>M</td>\n",
       "      <td>employee</td>\n",
       "      <td>0</td>\n",
       "      <td>23108.150</td>\n",
       "      <td>purchase of the house for my family</td>\n",
       "      <td>adult</td>\n",
       "    </tr>\n",
       "    <tr>\n",
       "      <th>10</th>\n",
       "      <td>2</td>\n",
       "      <td>4171.483647</td>\n",
       "      <td>36</td>\n",
       "      <td>bachelor's degree</td>\n",
       "      <td>0</td>\n",
       "      <td>married</td>\n",
       "      <td>0</td>\n",
       "      <td>M</td>\n",
       "      <td>business</td>\n",
       "      <td>0</td>\n",
       "      <td>18230.959</td>\n",
       "      <td>buy real estate</td>\n",
       "      <td>adult</td>\n",
       "    </tr>\n",
       "    <tr>\n",
       "      <th>11</th>\n",
       "      <td>0</td>\n",
       "      <td>792.701887</td>\n",
       "      <td>40</td>\n",
       "      <td>secondary education</td>\n",
       "      <td>1</td>\n",
       "      <td>married</td>\n",
       "      <td>0</td>\n",
       "      <td>F</td>\n",
       "      <td>employee</td>\n",
       "      <td>0</td>\n",
       "      <td>12331.077</td>\n",
       "      <td>buy commercial real estate</td>\n",
       "      <td>adult</td>\n",
       "    </tr>\n",
       "    <tr>\n",
       "      <th>12</th>\n",
       "      <td>0</td>\n",
       "      <td>NaN</td>\n",
       "      <td>65</td>\n",
       "      <td>secondary education</td>\n",
       "      <td>1</td>\n",
       "      <td>civil partnership</td>\n",
       "      <td>1</td>\n",
       "      <td>M</td>\n",
       "      <td>retiree</td>\n",
       "      <td>0</td>\n",
       "      <td>23186.534</td>\n",
       "      <td>to have a wedding</td>\n",
       "      <td>retired</td>\n",
       "    </tr>\n",
       "    <tr>\n",
       "      <th>13</th>\n",
       "      <td>0</td>\n",
       "      <td>1846.641941</td>\n",
       "      <td>54</td>\n",
       "      <td>some college</td>\n",
       "      <td>2</td>\n",
       "      <td>married</td>\n",
       "      <td>0</td>\n",
       "      <td>F</td>\n",
       "      <td>employee</td>\n",
       "      <td>0</td>\n",
       "      <td>20873.317</td>\n",
       "      <td>car purchase</td>\n",
       "      <td>adult</td>\n",
       "    </tr>\n",
       "    <tr>\n",
       "      <th>14</th>\n",
       "      <td>0</td>\n",
       "      <td>1844.956182</td>\n",
       "      <td>56</td>\n",
       "      <td>bachelor's degree</td>\n",
       "      <td>0</td>\n",
       "      <td>civil partnership</td>\n",
       "      <td>1</td>\n",
       "      <td>F</td>\n",
       "      <td>business</td>\n",
       "      <td>1</td>\n",
       "      <td>26420.466</td>\n",
       "      <td>buy residential real estate</td>\n",
       "      <td>adult</td>\n",
       "    </tr>\n",
       "  </tbody>\n",
       "</table>\n",
       "</div>"
      ],
      "text/plain": [
       "    children  days_employed  dob_years            education  education_id  \\\n",
       "0          1    8437.673028         42    bachelor's degree             0   \n",
       "1          1    4024.803754         36  secondary education             1   \n",
       "2          0    5623.422610         33  secondary education             1   \n",
       "3          3    4124.747207         32  secondary education             1   \n",
       "4          0            NaN         53  secondary education             1   \n",
       "5          0     926.185831         27    bachelor's degree             0   \n",
       "6          0    2879.202052         43    bachelor's degree             0   \n",
       "7          0     152.779569         50  secondary education             1   \n",
       "8          2    6929.865299         35    bachelor's degree             0   \n",
       "9          0    2188.756445         41  secondary education             1   \n",
       "10         2    4171.483647         36    bachelor's degree             0   \n",
       "11         0     792.701887         40  secondary education             1   \n",
       "12         0            NaN         65  secondary education             1   \n",
       "13         0    1846.641941         54         some college             2   \n",
       "14         0    1844.956182         56    bachelor's degree             0   \n",
       "\n",
       "        family_status  family_status_id gender income_type  debt  \\\n",
       "0             married                 0      F    employee     0   \n",
       "1             married                 0      F    employee     0   \n",
       "2             married                 0      M    employee     0   \n",
       "3             married                 0      M    employee     0   \n",
       "4   civil partnership                 1      F     retiree     0   \n",
       "5   civil partnership                 1      M    business     0   \n",
       "6             married                 0      F    business     0   \n",
       "7             married                 0      M    employee     0   \n",
       "8   civil partnership                 1      F    employee     0   \n",
       "9             married                 0      M    employee     0   \n",
       "10            married                 0      M    business     0   \n",
       "11            married                 0      F    employee     0   \n",
       "12  civil partnership                 1      M     retiree     0   \n",
       "13            married                 0      F    employee     0   \n",
       "14  civil partnership                 1      F    business     1   \n",
       "\n",
       "    total_income                              purpose age_group  \n",
       "0      40620.102                purchase of the house     adult  \n",
       "1      17932.802                         car purchase     adult  \n",
       "2      23341.752                purchase of the house     adult  \n",
       "3      42820.568              supplementary education     adult  \n",
       "4      25378.572                    to have a wedding     adult  \n",
       "5      40922.170                purchase of the house     adult  \n",
       "6      38484.156                 housing transactions     adult  \n",
       "7      21731.829                            education     adult  \n",
       "8      15337.093                     having a wedding     adult  \n",
       "9      23108.150  purchase of the house for my family     adult  \n",
       "10     18230.959                      buy real estate     adult  \n",
       "11     12331.077           buy commercial real estate     adult  \n",
       "12     23186.534                    to have a wedding   retired  \n",
       "13     20873.317                         car purchase     adult  \n",
       "14     26420.466          buy residential real estate     adult  "
      ]
     },
     "execution_count": 58,
     "metadata": {},
     "output_type": "execute_result"
    }
   ],
   "source": [
    "credit_score.head(15)"
   ]
  },
  {
   "cell_type": "code",
   "execution_count": 59,
   "metadata": {},
   "outputs": [
    {
     "data": {
      "text/plain": [
       "0"
      ]
     },
     "execution_count": 59,
     "metadata": {},
     "output_type": "execute_result"
    }
   ],
   "source": [
    "# Comprueba si tenemos algún error\n",
    "credit_score['total_income'].isna().sum()"
   ]
  },
  {
   "cell_type": "code",
   "execution_count": 60,
   "metadata": {},
   "outputs": [
    {
     "name": "stdout",
     "output_type": "stream",
     "text": [
      "No se presentó ningún error\n"
     ]
    }
   ],
   "source": [
    "# Reemplazar los valores ausentes si hay algún error\n",
    "print('No se presentó ningún error')"
   ]
  },
  {
   "cell_type": "code",
   "execution_count": 61,
   "metadata": {},
   "outputs": [
    {
     "name": "stdout",
     "output_type": "stream",
     "text": [
      "<class 'pandas.core.frame.DataFrame'>\n",
      "RangeIndex: 21454 entries, 0 to 21453\n",
      "Data columns (total 13 columns):\n",
      " #   Column            Non-Null Count  Dtype  \n",
      "---  ------            --------------  -----  \n",
      " 0   children          21454 non-null  int64  \n",
      " 1   days_employed     15906 non-null  float64\n",
      " 2   dob_years         21454 non-null  int64  \n",
      " 3   education         21454 non-null  object \n",
      " 4   education_id      21454 non-null  int64  \n",
      " 5   family_status     21454 non-null  object \n",
      " 6   family_status_id  21454 non-null  int64  \n",
      " 7   gender            21454 non-null  object \n",
      " 8   income_type       21454 non-null  object \n",
      " 9   debt              21454 non-null  int64  \n",
      " 10  total_income      21454 non-null  float64\n",
      " 11  purpose           21454 non-null  object \n",
      " 12  age_group         21454 non-null  object \n",
      "dtypes: float64(2), int64(5), object(6)\n",
      "memory usage: 2.1+ MB\n",
      "None\n"
     ]
    }
   ],
   "source": [
    "# Comprobar el número de entradas en las columnas\n",
    "print(credit_score.info())\n"
   ]
  },
  {
   "cell_type": "markdown",
   "metadata": {},
   "source": [
    "###  Restaurar valores en `days_employed` <a id='missing_values_days_employed'></a>"
   ]
  },
  {
   "cell_type": "code",
   "execution_count": null,
   "metadata": {
    "pycharm": {
     "name": "#%%\n"
    }
   },
   "outputs": [],
   "source": [
    "# Distribución de las medianas de `days_employed` en función de los parámetros identificados\n",
    "days_employed_median = credit_score['days_employed'].median()\n",
    "print(days_employed_median)\n",
    "\n"
   ]
  },
  {
   "cell_type": "code",
   "execution_count": 63,
   "metadata": {
    "scrolled": true
   },
   "outputs": [
    {
     "name": "stdout",
     "output_type": "stream",
     "text": [
      "education\n",
      "bachelor's degree      1611.056758\n",
      "graduate degree        3851.735057\n",
      "primary education      1189.581396\n",
      "secondary education    1684.271101\n",
      "some college           1148.776820\n",
      "Name: days_employed, dtype: float64\n"
     ]
    }
   ],
   "source": [
    "days_employed_median_educ = credit_score.groupby('education')['days_employed'].median()\n",
    "print(days_employed_median_educ)"
   ]
  },
  {
   "cell_type": "code",
   "execution_count": 64,
   "metadata": {
    "scrolled": true
   },
   "outputs": [
    {
     "name": "stdout",
     "output_type": "stream",
     "text": [
      "family_status\n",
      "civil partnership    1542.599791\n",
      "divorced             1693.774783\n",
      "married              1746.662391\n",
      "unmarried            1234.117726\n",
      "widow                2331.334484\n",
      "Name: days_employed, dtype: float64\n"
     ]
    }
   ],
   "source": [
    "days_employed_median_family_status = credit_score.groupby('family_status')['days_employed'].median()\n",
    "print(days_employed_median_family_status)"
   ]
  },
  {
   "cell_type": "code",
   "execution_count": 65,
   "metadata": {},
   "outputs": [
    {
     "name": "stdout",
     "output_type": "stream",
     "text": [
      "age_group\n",
      "adult      1624.965472\n",
      "retired    2876.221697\n",
      "Name: days_employed, dtype: float64\n"
     ]
    }
   ],
   "source": [
    "days_employed_median_age = credit_score.groupby('age_group')['days_employed'].median()\n",
    "print(days_employed_median_age)"
   ]
  },
  {
   "cell_type": "code",
   "execution_count": 66,
   "metadata": {},
   "outputs": [
    {
     "name": "stdout",
     "output_type": "stream",
     "text": [
      "income_type\n",
      "business          1547.382223\n",
      "civil servant     2689.368353\n",
      "employee          1574.202821\n",
      "entrepreneur       520.848083\n",
      "parental leave    3296.759962\n",
      "retiree                   NaN\n",
      "student            578.751554\n",
      "unemployed                NaN\n",
      "Name: days_employed, dtype: float64\n"
     ]
    }
   ],
   "source": [
    "days_employed_median_inc_type = credit_score.groupby('income_type')['days_employed'].median()\n",
    "print(days_employed_median_inc_type)"
   ]
  },
  {
   "cell_type": "code",
   "execution_count": 67,
   "metadata": {},
   "outputs": [
    {
     "name": "stdout",
     "output_type": "stream",
     "text": [
      "2353.0159319988766\n"
     ]
    }
   ],
   "source": [
    "# Distribución de las medias de `days_employed` en función de los parámetros identificados\n",
    "days_employed_avg = credit_score['days_employed'].mean()\n",
    "print(days_employed_avg)"
   ]
  },
  {
   "cell_type": "code",
   "execution_count": 68,
   "metadata": {},
   "outputs": [
    {
     "name": "stdout",
     "output_type": "stream",
     "text": [
      "education\n",
      "bachelor's degree      2277.818710\n",
      "graduate degree        3520.186537\n",
      "primary education      1940.672957\n",
      "secondary education    2434.270703\n",
      "some college           1563.112086\n",
      "Name: days_employed, dtype: float64\n"
     ]
    }
   ],
   "source": [
    "days_employed_avg_educ = credit_score.groupby('education')['days_employed'].mean()\n",
    "print(days_employed_avg_educ)"
   ]
  },
  {
   "cell_type": "code",
   "execution_count": 69,
   "metadata": {
    "scrolled": true
   },
   "outputs": [
    {
     "name": "stdout",
     "output_type": "stream",
     "text": [
      "family_status\n",
      "civil partnership    2252.614755\n",
      "divorced             2445.741500\n",
      "married              2470.512856\n",
      "unmarried            1848.287053\n",
      "widow                3041.384914\n",
      "Name: days_employed, dtype: float64\n"
     ]
    }
   ],
   "source": [
    "days_employed_avg_family_status = credit_score.groupby('family_status')['days_employed'].mean()\n",
    "print(days_employed_avg_family_status)"
   ]
  },
  {
   "cell_type": "code",
   "execution_count": 70,
   "metadata": {
    "scrolled": true
   },
   "outputs": [
    {
     "name": "stdout",
     "output_type": "stream",
     "text": [
      "age_group\n",
      "adult      2340.733767\n",
      "retired    4010.478357\n",
      "Name: days_employed, dtype: float64\n"
     ]
    }
   ],
   "source": [
    "days_employed_avg_age = credit_score.groupby('age_group')['days_employed'].mean()\n",
    "print(days_employed_avg_age)"
   ]
  },
  {
   "cell_type": "code",
   "execution_count": 71,
   "metadata": {},
   "outputs": [
    {
     "name": "stdout",
     "output_type": "stream",
     "text": [
      "income_type\n",
      "business          2111.524398\n",
      "civil servant     3399.896902\n",
      "employee          2326.499216\n",
      "entrepreneur       520.848083\n",
      "parental leave    3296.759962\n",
      "retiree                   NaN\n",
      "student            578.751554\n",
      "unemployed                NaN\n",
      "Name: days_employed, dtype: float64\n"
     ]
    }
   ],
   "source": [
    "days_employed_avg_inc_type = credit_score.groupby('income_type')['days_employed'].mean()\n",
    "print(days_employed_avg_inc_type)"
   ]
  },
  {
   "cell_type": "markdown",
   "metadata": {},
   "source": [
    "\n",
    "\n",
    "Se decidió utilizar la mediana, debido a que existen valores atípicos significantes en nuestro dataset, por este motivo, los valores ausentes se van a rellenar con la media de los datos de la columna days employed."
   ]
  },
  {
   "cell_type": "code",
   "execution_count": 72,
   "metadata": {},
   "outputs": [],
   "source": [
    "# Escribamos una función que calcule medias o medianas (dependiendo de tu decisión) según el parámetro identificado\n",
    "median_days = credit_score.groupby('income_type')['days_employed'].transform('median') \n",
    "\n",
    "       "
   ]
  },
  {
   "cell_type": "code",
   "execution_count": 73,
   "metadata": {},
   "outputs": [
    {
     "data": {
      "text/plain": [
       "0        1574.202821\n",
       "1        1574.202821\n",
       "2        1574.202821\n",
       "3        1574.202821\n",
       "4                NaN\n",
       "            ...     \n",
       "21449    1547.382223\n",
       "21450            NaN\n",
       "21451    1574.202821\n",
       "21452    1574.202821\n",
       "21453    1574.202821\n",
       "Name: days_employed, Length: 21454, dtype: float64"
      ]
     },
     "execution_count": 73,
     "metadata": {},
     "output_type": "execute_result"
    }
   ],
   "source": [
    "# Comprueba que la función funciona\n",
    "median_days\n",
    "\n"
   ]
  },
  {
   "cell_type": "code",
   "execution_count": 74,
   "metadata": {},
   "outputs": [],
   "source": [
    "# Aplicar la función al income_type\n",
    "credit_score['days_employed'] = credit_score['days_employed'].fillna(median_days)\n"
   ]
  },
  {
   "cell_type": "code",
   "execution_count": 75,
   "metadata": {},
   "outputs": [
    {
     "name": "stdout",
     "output_type": "stream",
     "text": [
      "    children  days_employed  dob_years            education  education_id  \\\n",
      "0          1    8437.673028         42    bachelor's degree             0   \n",
      "1          1    4024.803754         36  secondary education             1   \n",
      "2          0    5623.422610         33  secondary education             1   \n",
      "3          3    4124.747207         32  secondary education             1   \n",
      "4          0            NaN         53  secondary education             1   \n",
      "5          0     926.185831         27    bachelor's degree             0   \n",
      "6          0    2879.202052         43    bachelor's degree             0   \n",
      "7          0     152.779569         50  secondary education             1   \n",
      "8          2    6929.865299         35    bachelor's degree             0   \n",
      "9          0    2188.756445         41  secondary education             1   \n",
      "10         2    4171.483647         36    bachelor's degree             0   \n",
      "11         0     792.701887         40  secondary education             1   \n",
      "12         0            NaN         65  secondary education             1   \n",
      "13         0    1846.641941         54         some college             2   \n",
      "14         0    1844.956182         56    bachelor's degree             0   \n",
      "\n",
      "        family_status  family_status_id gender income_type  debt  \\\n",
      "0             married                 0      F    employee     0   \n",
      "1             married                 0      F    employee     0   \n",
      "2             married                 0      M    employee     0   \n",
      "3             married                 0      M    employee     0   \n",
      "4   civil partnership                 1      F     retiree     0   \n",
      "5   civil partnership                 1      M    business     0   \n",
      "6             married                 0      F    business     0   \n",
      "7             married                 0      M    employee     0   \n",
      "8   civil partnership                 1      F    employee     0   \n",
      "9             married                 0      M    employee     0   \n",
      "10            married                 0      M    business     0   \n",
      "11            married                 0      F    employee     0   \n",
      "12  civil partnership                 1      M     retiree     0   \n",
      "13            married                 0      F    employee     0   \n",
      "14  civil partnership                 1      F    business     1   \n",
      "\n",
      "    total_income                              purpose age_group  \n",
      "0      40620.102                purchase of the house     adult  \n",
      "1      17932.802                         car purchase     adult  \n",
      "2      23341.752                purchase of the house     adult  \n",
      "3      42820.568              supplementary education     adult  \n",
      "4      25378.572                    to have a wedding     adult  \n",
      "5      40922.170                purchase of the house     adult  \n",
      "6      38484.156                 housing transactions     adult  \n",
      "7      21731.829                            education     adult  \n",
      "8      15337.093                     having a wedding     adult  \n",
      "9      23108.150  purchase of the house for my family     adult  \n",
      "10     18230.959                      buy real estate     adult  \n",
      "11     12331.077           buy commercial real estate     adult  \n",
      "12     23186.534                    to have a wedding   retired  \n",
      "13     20873.317                         car purchase     adult  \n",
      "14     26420.466          buy residential real estate     adult  \n"
     ]
    }
   ],
   "source": [
    "# Comprueba si la función funcionó\n",
    "print(credit_score.head(15))\n"
   ]
  },
  {
   "cell_type": "code",
   "execution_count": 76,
   "metadata": {},
   "outputs": [
    {
     "name": "stdout",
     "output_type": "stream",
     "text": [
      "    children  days_employed  dob_years            education  education_id  \\\n",
      "0          1    8437.673028         42    bachelor's degree             0   \n",
      "1          1    4024.803754         36  secondary education             1   \n",
      "2          0    5623.422610         33  secondary education             1   \n",
      "3          3    4124.747207         32  secondary education             1   \n",
      "4          0    2353.015932         53  secondary education             1   \n",
      "5          0     926.185831         27    bachelor's degree             0   \n",
      "6          0    2879.202052         43    bachelor's degree             0   \n",
      "7          0     152.779569         50  secondary education             1   \n",
      "8          2    6929.865299         35    bachelor's degree             0   \n",
      "9          0    2188.756445         41  secondary education             1   \n",
      "10         2    4171.483647         36    bachelor's degree             0   \n",
      "11         0     792.701887         40  secondary education             1   \n",
      "12         0    2353.015932         65  secondary education             1   \n",
      "13         0    1846.641941         54         some college             2   \n",
      "14         0    1844.956182         56    bachelor's degree             0   \n",
      "\n",
      "        family_status  family_status_id gender income_type  debt  \\\n",
      "0             married                 0      F    employee     0   \n",
      "1             married                 0      F    employee     0   \n",
      "2             married                 0      M    employee     0   \n",
      "3             married                 0      M    employee     0   \n",
      "4   civil partnership                 1      F     retiree     0   \n",
      "5   civil partnership                 1      M    business     0   \n",
      "6             married                 0      F    business     0   \n",
      "7             married                 0      M    employee     0   \n",
      "8   civil partnership                 1      F    employee     0   \n",
      "9             married                 0      M    employee     0   \n",
      "10            married                 0      M    business     0   \n",
      "11            married                 0      F    employee     0   \n",
      "12  civil partnership                 1      M     retiree     0   \n",
      "13            married                 0      F    employee     0   \n",
      "14  civil partnership                 1      F    business     1   \n",
      "\n",
      "    total_income                              purpose age_group  \n",
      "0      40620.102                purchase of the house     adult  \n",
      "1      17932.802                         car purchase     adult  \n",
      "2      23341.752                purchase of the house     adult  \n",
      "3      42820.568              supplementary education     adult  \n",
      "4      25378.572                    to have a wedding     adult  \n",
      "5      40922.170                purchase of the house     adult  \n",
      "6      38484.156                 housing transactions     adult  \n",
      "7      21731.829                            education     adult  \n",
      "8      15337.093                     having a wedding     adult  \n",
      "9      23108.150  purchase of the house for my family     adult  \n",
      "10     18230.959                      buy real estate     adult  \n",
      "11     12331.077           buy commercial real estate     adult  \n",
      "12     23186.534                    to have a wedding   retired  \n",
      "13     20873.317                         car purchase     adult  \n",
      "14     26420.466          buy residential real estate     adult  \n"
     ]
    }
   ],
   "source": [
    "# Reemplazar valores ausentes\n",
    "credit_score = credit_score.fillna(value=days_employed_avg)\n",
    "print(credit_score.head(15))\n"
   ]
  },
  {
   "cell_type": "code",
   "execution_count": 77,
   "metadata": {},
   "outputs": [
    {
     "name": "stdout",
     "output_type": "stream",
     "text": [
      "<class 'pandas.core.frame.DataFrame'>\n",
      "RangeIndex: 21454 entries, 0 to 21453\n",
      "Data columns (total 13 columns):\n",
      " #   Column            Non-Null Count  Dtype  \n",
      "---  ------            --------------  -----  \n",
      " 0   children          21454 non-null  int64  \n",
      " 1   days_employed     21454 non-null  float64\n",
      " 2   dob_years         21454 non-null  int64  \n",
      " 3   education         21454 non-null  object \n",
      " 4   education_id      21454 non-null  int64  \n",
      " 5   family_status     21454 non-null  object \n",
      " 6   family_status_id  21454 non-null  int64  \n",
      " 7   gender            21454 non-null  object \n",
      " 8   income_type       21454 non-null  object \n",
      " 9   debt              21454 non-null  int64  \n",
      " 10  total_income      21454 non-null  float64\n",
      " 11  purpose           21454 non-null  object \n",
      " 12  age_group         21454 non-null  object \n",
      "dtypes: float64(2), int64(5), object(6)\n",
      "memory usage: 2.1+ MB\n"
     ]
    }
   ],
   "source": [
    "# Comprueba las entradas en todas las columnas: asegúrate de que hayamos corregido todos los valores ausentes\n",
    "credit_score.info()"
   ]
  },
  {
   "cell_type": "markdown",
   "metadata": {},
   "source": [
    "## Clasificación de datos <a id='data_classification'></a>\n",
    "\n",
    "\n"
   ]
  },
  {
   "cell_type": "code",
   "execution_count": 78,
   "metadata": {
    "scrolled": true
   },
   "outputs": [
    {
     "name": "stdout",
     "output_type": "stream",
     "text": [
      "0          purchase of the house\n",
      "1                   car purchase\n",
      "2          purchase of the house\n",
      "3        supplementary education\n",
      "4              to have a wedding\n",
      "                  ...           \n",
      "21449       housing transactions\n",
      "21450          purchase of a car\n",
      "21451                   property\n",
      "21452          buying my own car\n",
      "21453               to buy a car\n",
      "Name: purpose, Length: 21454, dtype: object\n"
     ]
    }
   ],
   "source": [
    "# Muestra los valores de los datos seleccionados para la clasificación\n",
    "print(credit_score['purpose'])\n"
   ]
  },
  {
   "cell_type": "code",
   "execution_count": 79,
   "metadata": {
    "scrolled": true
   },
   "outputs": [
    {
     "data": {
      "text/plain": [
       "wedding ceremony                            791\n",
       "having a wedding                            768\n",
       "to have a wedding                           765\n",
       "real estate transactions                    675\n",
       "buy commercial real estate                  661\n",
       "housing transactions                        652\n",
       "buying property for renting out             651\n",
       "transactions with commercial real estate    650\n",
       "purchase of the house                       646\n",
       "housing                                     646\n",
       "purchase of the house for my family         638\n",
       "construction of own property                635\n",
       "property                                    633\n",
       "transactions with my real estate            627\n",
       "building a real estate                      624\n",
       "buy real estate                             621\n",
       "purchase of my own house                    620\n",
       "building a property                         619\n",
       "housing renovation                          607\n",
       "buy residential real estate                 606\n",
       "buying my own car                           505\n",
       "going to university                         496\n",
       "car                                         494\n",
       "second-hand car purchase                    486\n",
       "to own a car                                478\n",
       "buying a second-hand car                    478\n",
       "cars                                        478\n",
       "to buy a car                                471\n",
       "car purchase                                461\n",
       "supplementary education                     460\n",
       "purchase of a car                           455\n",
       "university education                        452\n",
       "education                                   447\n",
       "to get a supplementary education            446\n",
       "getting an education                        442\n",
       "profile education                           436\n",
       "getting higher education                    426\n",
       "to become educated                          408\n",
       "Name: purpose, dtype: int64"
      ]
     },
     "execution_count": 79,
     "metadata": {},
     "output_type": "execute_result"
    }
   ],
   "source": [
    "# Comprobar los valores únicos\n",
    "credit_score['purpose'].value_counts()"
   ]
  },
  {
   "cell_type": "markdown",
   "metadata": {},
   "source": [
    "\n",
    "\n",
    "Se pudo identificar en los propósitos de préstamos grupos como el de la educación, el de comprar carros, bienes raíces, alojamientos, matrimonios, y propiedades.\n",
    "\n",
    "\n"
   ]
  },
  {
   "cell_type": "code",
   "execution_count": 80,
   "metadata": {},
   "outputs": [],
   "source": [
    "# Escribamos una función para clasificar los datos en función de temas comunes\n",
    "def purpose_group(purpose):\n",
    "    \n",
    "    if 'education' in purpose:\n",
    "        return 'education'\n",
    "    if 'to become educated' in purpose:\n",
    "        return 'education'\n",
    "    if 'car' in purpose:\n",
    "        return 'get a car'\n",
    "    if 'wedding' in purpose:\n",
    "        return 'wedding'\n",
    "    if 'housing' in purpose:\n",
    "        return 'housing'\n",
    "    else:\n",
    "        return 'real state and property'"
   ]
  },
  {
   "cell_type": "code",
   "execution_count": 81,
   "metadata": {},
   "outputs": [
    {
     "name": "stdout",
     "output_type": "stream",
     "text": [
      "housing\n"
     ]
    }
   ],
   "source": [
    "print(purpose_group('housing'))"
   ]
  },
  {
   "cell_type": "code",
   "execution_count": 82,
   "metadata": {},
   "outputs": [],
   "source": [
    "# Crea una columna con las categorías y cuenta los valores en ellas\n",
    "credit_score['purpose_group'] = credit_score['purpose'].apply(purpose_group)\n"
   ]
  },
  {
   "cell_type": "code",
   "execution_count": 83,
   "metadata": {},
   "outputs": [
    {
     "data": {
      "text/html": [
       "<div>\n",
       "<style scoped>\n",
       "    .dataframe tbody tr th:only-of-type {\n",
       "        vertical-align: middle;\n",
       "    }\n",
       "\n",
       "    .dataframe tbody tr th {\n",
       "        vertical-align: top;\n",
       "    }\n",
       "\n",
       "    .dataframe thead th {\n",
       "        text-align: right;\n",
       "    }\n",
       "</style>\n",
       "<table border=\"1\" class=\"dataframe\">\n",
       "  <thead>\n",
       "    <tr style=\"text-align: right;\">\n",
       "      <th></th>\n",
       "      <th>children</th>\n",
       "      <th>days_employed</th>\n",
       "      <th>dob_years</th>\n",
       "      <th>education</th>\n",
       "      <th>education_id</th>\n",
       "      <th>family_status</th>\n",
       "      <th>family_status_id</th>\n",
       "      <th>gender</th>\n",
       "      <th>income_type</th>\n",
       "      <th>debt</th>\n",
       "      <th>total_income</th>\n",
       "      <th>purpose</th>\n",
       "      <th>age_group</th>\n",
       "      <th>purpose_group</th>\n",
       "    </tr>\n",
       "  </thead>\n",
       "  <tbody>\n",
       "    <tr>\n",
       "      <th>0</th>\n",
       "      <td>1</td>\n",
       "      <td>8437.673028</td>\n",
       "      <td>42</td>\n",
       "      <td>bachelor's degree</td>\n",
       "      <td>0</td>\n",
       "      <td>married</td>\n",
       "      <td>0</td>\n",
       "      <td>F</td>\n",
       "      <td>employee</td>\n",
       "      <td>0</td>\n",
       "      <td>40620.102</td>\n",
       "      <td>purchase of the house</td>\n",
       "      <td>adult</td>\n",
       "      <td>real state and property</td>\n",
       "    </tr>\n",
       "    <tr>\n",
       "      <th>1</th>\n",
       "      <td>1</td>\n",
       "      <td>4024.803754</td>\n",
       "      <td>36</td>\n",
       "      <td>secondary education</td>\n",
       "      <td>1</td>\n",
       "      <td>married</td>\n",
       "      <td>0</td>\n",
       "      <td>F</td>\n",
       "      <td>employee</td>\n",
       "      <td>0</td>\n",
       "      <td>17932.802</td>\n",
       "      <td>car purchase</td>\n",
       "      <td>adult</td>\n",
       "      <td>get a car</td>\n",
       "    </tr>\n",
       "    <tr>\n",
       "      <th>2</th>\n",
       "      <td>0</td>\n",
       "      <td>5623.422610</td>\n",
       "      <td>33</td>\n",
       "      <td>secondary education</td>\n",
       "      <td>1</td>\n",
       "      <td>married</td>\n",
       "      <td>0</td>\n",
       "      <td>M</td>\n",
       "      <td>employee</td>\n",
       "      <td>0</td>\n",
       "      <td>23341.752</td>\n",
       "      <td>purchase of the house</td>\n",
       "      <td>adult</td>\n",
       "      <td>real state and property</td>\n",
       "    </tr>\n",
       "    <tr>\n",
       "      <th>3</th>\n",
       "      <td>3</td>\n",
       "      <td>4124.747207</td>\n",
       "      <td>32</td>\n",
       "      <td>secondary education</td>\n",
       "      <td>1</td>\n",
       "      <td>married</td>\n",
       "      <td>0</td>\n",
       "      <td>M</td>\n",
       "      <td>employee</td>\n",
       "      <td>0</td>\n",
       "      <td>42820.568</td>\n",
       "      <td>supplementary education</td>\n",
       "      <td>adult</td>\n",
       "      <td>education</td>\n",
       "    </tr>\n",
       "    <tr>\n",
       "      <th>4</th>\n",
       "      <td>0</td>\n",
       "      <td>2353.015932</td>\n",
       "      <td>53</td>\n",
       "      <td>secondary education</td>\n",
       "      <td>1</td>\n",
       "      <td>civil partnership</td>\n",
       "      <td>1</td>\n",
       "      <td>F</td>\n",
       "      <td>retiree</td>\n",
       "      <td>0</td>\n",
       "      <td>25378.572</td>\n",
       "      <td>to have a wedding</td>\n",
       "      <td>adult</td>\n",
       "      <td>wedding</td>\n",
       "    </tr>\n",
       "    <tr>\n",
       "      <th>5</th>\n",
       "      <td>0</td>\n",
       "      <td>926.185831</td>\n",
       "      <td>27</td>\n",
       "      <td>bachelor's degree</td>\n",
       "      <td>0</td>\n",
       "      <td>civil partnership</td>\n",
       "      <td>1</td>\n",
       "      <td>M</td>\n",
       "      <td>business</td>\n",
       "      <td>0</td>\n",
       "      <td>40922.170</td>\n",
       "      <td>purchase of the house</td>\n",
       "      <td>adult</td>\n",
       "      <td>real state and property</td>\n",
       "    </tr>\n",
       "    <tr>\n",
       "      <th>6</th>\n",
       "      <td>0</td>\n",
       "      <td>2879.202052</td>\n",
       "      <td>43</td>\n",
       "      <td>bachelor's degree</td>\n",
       "      <td>0</td>\n",
       "      <td>married</td>\n",
       "      <td>0</td>\n",
       "      <td>F</td>\n",
       "      <td>business</td>\n",
       "      <td>0</td>\n",
       "      <td>38484.156</td>\n",
       "      <td>housing transactions</td>\n",
       "      <td>adult</td>\n",
       "      <td>housing</td>\n",
       "    </tr>\n",
       "    <tr>\n",
       "      <th>7</th>\n",
       "      <td>0</td>\n",
       "      <td>152.779569</td>\n",
       "      <td>50</td>\n",
       "      <td>secondary education</td>\n",
       "      <td>1</td>\n",
       "      <td>married</td>\n",
       "      <td>0</td>\n",
       "      <td>M</td>\n",
       "      <td>employee</td>\n",
       "      <td>0</td>\n",
       "      <td>21731.829</td>\n",
       "      <td>education</td>\n",
       "      <td>adult</td>\n",
       "      <td>education</td>\n",
       "    </tr>\n",
       "    <tr>\n",
       "      <th>8</th>\n",
       "      <td>2</td>\n",
       "      <td>6929.865299</td>\n",
       "      <td>35</td>\n",
       "      <td>bachelor's degree</td>\n",
       "      <td>0</td>\n",
       "      <td>civil partnership</td>\n",
       "      <td>1</td>\n",
       "      <td>F</td>\n",
       "      <td>employee</td>\n",
       "      <td>0</td>\n",
       "      <td>15337.093</td>\n",
       "      <td>having a wedding</td>\n",
       "      <td>adult</td>\n",
       "      <td>wedding</td>\n",
       "    </tr>\n",
       "    <tr>\n",
       "      <th>9</th>\n",
       "      <td>0</td>\n",
       "      <td>2188.756445</td>\n",
       "      <td>41</td>\n",
       "      <td>secondary education</td>\n",
       "      <td>1</td>\n",
       "      <td>married</td>\n",
       "      <td>0</td>\n",
       "      <td>M</td>\n",
       "      <td>employee</td>\n",
       "      <td>0</td>\n",
       "      <td>23108.150</td>\n",
       "      <td>purchase of the house for my family</td>\n",
       "      <td>adult</td>\n",
       "      <td>real state and property</td>\n",
       "    </tr>\n",
       "  </tbody>\n",
       "</table>\n",
       "</div>"
      ],
      "text/plain": [
       "   children  days_employed  dob_years            education  education_id  \\\n",
       "0         1    8437.673028         42    bachelor's degree             0   \n",
       "1         1    4024.803754         36  secondary education             1   \n",
       "2         0    5623.422610         33  secondary education             1   \n",
       "3         3    4124.747207         32  secondary education             1   \n",
       "4         0    2353.015932         53  secondary education             1   \n",
       "5         0     926.185831         27    bachelor's degree             0   \n",
       "6         0    2879.202052         43    bachelor's degree             0   \n",
       "7         0     152.779569         50  secondary education             1   \n",
       "8         2    6929.865299         35    bachelor's degree             0   \n",
       "9         0    2188.756445         41  secondary education             1   \n",
       "\n",
       "       family_status  family_status_id gender income_type  debt  total_income  \\\n",
       "0            married                 0      F    employee     0     40620.102   \n",
       "1            married                 0      F    employee     0     17932.802   \n",
       "2            married                 0      M    employee     0     23341.752   \n",
       "3            married                 0      M    employee     0     42820.568   \n",
       "4  civil partnership                 1      F     retiree     0     25378.572   \n",
       "5  civil partnership                 1      M    business     0     40922.170   \n",
       "6            married                 0      F    business     0     38484.156   \n",
       "7            married                 0      M    employee     0     21731.829   \n",
       "8  civil partnership                 1      F    employee     0     15337.093   \n",
       "9            married                 0      M    employee     0     23108.150   \n",
       "\n",
       "                               purpose age_group            purpose_group  \n",
       "0                purchase of the house     adult  real state and property  \n",
       "1                         car purchase     adult                get a car  \n",
       "2                purchase of the house     adult  real state and property  \n",
       "3              supplementary education     adult                education  \n",
       "4                    to have a wedding     adult                  wedding  \n",
       "5                purchase of the house     adult  real state and property  \n",
       "6                 housing transactions     adult                  housing  \n",
       "7                            education     adult                education  \n",
       "8                     having a wedding     adult                  wedding  \n",
       "9  purchase of the house for my family     adult  real state and property  "
      ]
     },
     "execution_count": 83,
     "metadata": {},
     "output_type": "execute_result"
    }
   ],
   "source": [
    "credit_score.head(10)"
   ]
  },
  {
   "cell_type": "code",
   "execution_count": 84,
   "metadata": {
    "scrolled": true
   },
   "outputs": [
    {
     "data": {
      "text/plain": [
       "23389.540    1197\n",
       "23186.534     417\n",
       "23149.028     286\n",
       "23515.096     113\n",
       "20514.190      95\n",
       "             ... \n",
       "45484.109       1\n",
       "27715.458       1\n",
       "23834.534       1\n",
       "26124.613       1\n",
       "41428.916       1\n",
       "Name: total_income, Length: 19348, dtype: int64"
      ]
     },
     "execution_count": 84,
     "metadata": {},
     "output_type": "execute_result"
    }
   ],
   "source": [
    "# Revisar todos los datos numéricos en la columna seleccionada para la clasificación\n",
    "credit_score['total_income'].value_counts()"
   ]
  },
  {
   "cell_type": "code",
   "execution_count": 85,
   "metadata": {
    "scrolled": true
   },
   "outputs": [
    {
     "name": "stdout",
     "output_type": "stream",
     "text": [
      "3306.762\n",
      "\n",
      "362496.645\n"
     ]
    }
   ],
   "source": [
    "# Obtener estadísticas resumidas para la columna\n",
    "print(credit_score['total_income'].min())\n",
    "print()\n",
    "print(credit_score['total_income'].max())\n"
   ]
  },
  {
   "cell_type": "markdown",
   "metadata": {},
   "source": [
    "\n",
    "\n",
    "Se decidió que los rangos para esta columna del total de ingresos serán low cuando sean menor o igual a 20 000; 'medium' cuando sea mayor a 20, 000 y menor o igual a 60 000; y high cuando sea mayor a 60,000 y menor o igual a 100,000; y por último, very high más que 100,000; con el fin de separar los niveles de ingresos por categorías y así tener una mejor visión de lo que significan.\n",
    "\n"
   ]
  },
  {
   "cell_type": "code",
   "execution_count": 86,
   "metadata": {},
   "outputs": [],
   "source": [
    "# Crear una función para clasificar en diferentes grupos numéricos basándose en rangos\n",
    "def income_group(total_income):\n",
    "    if total_income <= 20000:\n",
    "        return 'low'\n",
    "    if total_income <= 60000:\n",
    "        return 'medium'\n",
    "    if total_income <= 100000:\n",
    "        return 'high'\n",
    "    return 'very high'\n",
    "    \n"
   ]
  },
  {
   "cell_type": "code",
   "execution_count": 87,
   "metadata": {},
   "outputs": [
    {
     "name": "stdout",
     "output_type": "stream",
     "text": [
      "medium\n"
     ]
    }
   ],
   "source": [
    "print(income_group(26787.568355))"
   ]
  },
  {
   "cell_type": "code",
   "execution_count": 88,
   "metadata": {},
   "outputs": [
    {
     "name": "stdout",
     "output_type": "stream",
     "text": [
      "   children  days_employed  dob_years            education  education_id  \\\n",
      "0         1    8437.673028         42    bachelor's degree             0   \n",
      "1         1    4024.803754         36  secondary education             1   \n",
      "2         0    5623.422610         33  secondary education             1   \n",
      "3         3    4124.747207         32  secondary education             1   \n",
      "4         0    2353.015932         53  secondary education             1   \n",
      "5         0     926.185831         27    bachelor's degree             0   \n",
      "6         0    2879.202052         43    bachelor's degree             0   \n",
      "7         0     152.779569         50  secondary education             1   \n",
      "8         2    6929.865299         35    bachelor's degree             0   \n",
      "9         0    2188.756445         41  secondary education             1   \n",
      "\n",
      "       family_status  family_status_id gender income_type  debt  total_income  \\\n",
      "0            married                 0      F    employee     0     40620.102   \n",
      "1            married                 0      F    employee     0     17932.802   \n",
      "2            married                 0      M    employee     0     23341.752   \n",
      "3            married                 0      M    employee     0     42820.568   \n",
      "4  civil partnership                 1      F     retiree     0     25378.572   \n",
      "5  civil partnership                 1      M    business     0     40922.170   \n",
      "6            married                 0      F    business     0     38484.156   \n",
      "7            married                 0      M    employee     0     21731.829   \n",
      "8  civil partnership                 1      F    employee     0     15337.093   \n",
      "9            married                 0      M    employee     0     23108.150   \n",
      "\n",
      "                               purpose age_group            purpose_group  \\\n",
      "0                purchase of the house     adult  real state and property   \n",
      "1                         car purchase     adult                get a car   \n",
      "2                purchase of the house     adult  real state and property   \n",
      "3              supplementary education     adult                education   \n",
      "4                    to have a wedding     adult                  wedding   \n",
      "5                purchase of the house     adult  real state and property   \n",
      "6                 housing transactions     adult                  housing   \n",
      "7                            education     adult                education   \n",
      "8                     having a wedding     adult                  wedding   \n",
      "9  purchase of the house for my family     adult  real state and property   \n",
      "\n",
      "  income_group  \n",
      "0       medium  \n",
      "1          low  \n",
      "2       medium  \n",
      "3       medium  \n",
      "4       medium  \n",
      "5       medium  \n",
      "6       medium  \n",
      "7       medium  \n",
      "8          low  \n",
      "9       medium  \n"
     ]
    }
   ],
   "source": [
    "# Crear una columna con categorías\n",
    "credit_score['income_group'] = credit_score['total_income'].apply(income_group)\n",
    "print(credit_score.head(10))"
   ]
  },
  {
   "cell_type": "code",
   "execution_count": 89,
   "metadata": {
    "scrolled": true
   },
   "outputs": [
    {
     "data": {
      "text/plain": [
       "medium       13413\n",
       "low           7369\n",
       "high           573\n",
       "very high       99\n",
       "Name: income_group, dtype: int64"
      ]
     },
     "execution_count": 89,
     "metadata": {},
     "output_type": "execute_result"
    }
   ],
   "source": [
    "# Contar los valores de cada categoría para ver la distribución\n",
    "credit_score['income_group'].value_counts()"
   ]
  },
  {
   "cell_type": "markdown",
   "metadata": {},
   "source": [
    "## Comprobación de las hipótesis <a id='data_check'></a>\n"
   ]
  },
  {
   "cell_type": "markdown",
   "metadata": {},
   "source": [
    "**¿Existe una correlación entre tener hijos y pagar a tiempo?**"
   ]
  },
  {
   "cell_type": "code",
   "execution_count": 90,
   "metadata": {},
   "outputs": [
    {
     "data": {
      "text/html": [
       "<div>\n",
       "<style scoped>\n",
       "    .dataframe tbody tr th:only-of-type {\n",
       "        vertical-align: middle;\n",
       "    }\n",
       "\n",
       "    .dataframe tbody tr th {\n",
       "        vertical-align: top;\n",
       "    }\n",
       "\n",
       "    .dataframe thead tr th {\n",
       "        text-align: left;\n",
       "    }\n",
       "\n",
       "    .dataframe thead tr:last-of-type th {\n",
       "        text-align: right;\n",
       "    }\n",
       "</style>\n",
       "<table border=\"1\" class=\"dataframe\">\n",
       "  <thead>\n",
       "    <tr>\n",
       "      <th></th>\n",
       "      <th>sum</th>\n",
       "      <th>mean</th>\n",
       "    </tr>\n",
       "    <tr>\n",
       "      <th></th>\n",
       "      <th>debt</th>\n",
       "      <th>debt</th>\n",
       "    </tr>\n",
       "    <tr>\n",
       "      <th>children</th>\n",
       "      <th></th>\n",
       "      <th></th>\n",
       "    </tr>\n",
       "  </thead>\n",
       "  <tbody>\n",
       "    <tr>\n",
       "      <th>0</th>\n",
       "      <td>1064</td>\n",
       "      <td>0.075258</td>\n",
       "    </tr>\n",
       "    <tr>\n",
       "      <th>1</th>\n",
       "      <td>444</td>\n",
       "      <td>0.092346</td>\n",
       "    </tr>\n",
       "    <tr>\n",
       "      <th>2</th>\n",
       "      <td>194</td>\n",
       "      <td>0.094542</td>\n",
       "    </tr>\n",
       "    <tr>\n",
       "      <th>3</th>\n",
       "      <td>27</td>\n",
       "      <td>0.081818</td>\n",
       "    </tr>\n",
       "    <tr>\n",
       "      <th>4</th>\n",
       "      <td>4</td>\n",
       "      <td>0.097561</td>\n",
       "    </tr>\n",
       "    <tr>\n",
       "      <th>5</th>\n",
       "      <td>8</td>\n",
       "      <td>0.094118</td>\n",
       "    </tr>\n",
       "  </tbody>\n",
       "</table>\n",
       "</div>"
      ],
      "text/plain": [
       "           sum      mean\n",
       "          debt      debt\n",
       "children                \n",
       "0         1064  0.075258\n",
       "1          444  0.092346\n",
       "2          194  0.094542\n",
       "3           27  0.081818\n",
       "4            4  0.097561\n",
       "5            8  0.094118"
      ]
     },
     "execution_count": 90,
     "metadata": {},
     "output_type": "execute_result"
    }
   ],
   "source": [
    "credit_score.pivot_table(index='children',values='debt', aggfunc=['sum','mean'])"
   ]
  },
  {
   "cell_type": "code",
   "execution_count": 91,
   "metadata": {
    "scrolled": true
   },
   "outputs": [
    {
     "name": "stdout",
     "output_type": "stream",
     "text": [
      "children\n",
      "0    14138\n",
      "1     4808\n",
      "2     2052\n",
      "3      330\n",
      "4       41\n",
      "5       85\n",
      "Name: debt, dtype: int64\n"
     ]
    },
    {
     "data": {
      "text/html": [
       "<div>\n",
       "<style scoped>\n",
       "    .dataframe tbody tr th:only-of-type {\n",
       "        vertical-align: middle;\n",
       "    }\n",
       "\n",
       "    .dataframe tbody tr th {\n",
       "        vertical-align: top;\n",
       "    }\n",
       "\n",
       "    .dataframe thead tr th {\n",
       "        text-align: left;\n",
       "    }\n",
       "\n",
       "    .dataframe thead tr:last-of-type th {\n",
       "        text-align: right;\n",
       "    }\n",
       "</style>\n",
       "<table border=\"1\" class=\"dataframe\">\n",
       "  <thead>\n",
       "    <tr>\n",
       "      <th></th>\n",
       "      <th>count</th>\n",
       "      <th>mean</th>\n",
       "    </tr>\n",
       "    <tr>\n",
       "      <th></th>\n",
       "      <th>debt</th>\n",
       "      <th>debt</th>\n",
       "    </tr>\n",
       "    <tr>\n",
       "      <th>children</th>\n",
       "      <th></th>\n",
       "      <th></th>\n",
       "    </tr>\n",
       "  </thead>\n",
       "  <tbody>\n",
       "    <tr>\n",
       "      <th>0</th>\n",
       "      <td>14138</td>\n",
       "      <td>0.075258</td>\n",
       "    </tr>\n",
       "    <tr>\n",
       "      <th>1</th>\n",
       "      <td>4808</td>\n",
       "      <td>0.092346</td>\n",
       "    </tr>\n",
       "    <tr>\n",
       "      <th>2</th>\n",
       "      <td>2052</td>\n",
       "      <td>0.094542</td>\n",
       "    </tr>\n",
       "    <tr>\n",
       "      <th>3</th>\n",
       "      <td>330</td>\n",
       "      <td>0.081818</td>\n",
       "    </tr>\n",
       "    <tr>\n",
       "      <th>4</th>\n",
       "      <td>41</td>\n",
       "      <td>0.097561</td>\n",
       "    </tr>\n",
       "    <tr>\n",
       "      <th>5</th>\n",
       "      <td>85</td>\n",
       "      <td>0.094118</td>\n",
       "    </tr>\n",
       "  </tbody>\n",
       "</table>\n",
       "</div>"
      ],
      "text/plain": [
       "          count      mean\n",
       "           debt      debt\n",
       "children                 \n",
       "0         14138  0.075258\n",
       "1          4808  0.092346\n",
       "2          2052  0.094542\n",
       "3           330  0.081818\n",
       "4            41  0.097561\n",
       "5            85  0.094118"
      ]
     },
     "execution_count": 91,
     "metadata": {},
     "output_type": "execute_result"
    }
   ],
   "source": [
    "# Comprueba los datos sobre los hijos y los pagos puntuales\n",
    "print(credit_score.groupby('children')['debt'].count())\n",
    "\n",
    "# Calcular la tasa de incumplimiento en función del número de hijos\n",
    "credit_score.pivot_table(index='children', values='debt', aggfunc=['count', 'mean'])\n"
   ]
  },
  {
   "cell_type": "code",
   "execution_count": 92,
   "metadata": {},
   "outputs": [
    {
     "name": "stdout",
     "output_type": "stream",
     "text": [
      "tasa de endeudamiento de las personas con ningún hijo:  7.53%\n",
      "tasa de endeudamiento de las personas con un hijo:  9.23%\n",
      "tasa de endeudamiento de las personas con dos hijos:  9.45%\n",
      "tasa de endeudamiento de las personas con tres hijos:  8.18%\n",
      "tasa de endeudamiento de las personas con cuatro:  9.76%\n",
      "tasa de endeudamiento de las personas con más de cinco hijos:  9.41%\n"
     ]
    }
   ],
   "source": [
    "none_total = 14138\n",
    "one_total = 4808\n",
    "two_total = 2052\n",
    "three_total = 330\n",
    "four_total = 41\n",
    "more_than_five_total = 85\n",
    "none_debt = 1064\n",
    "one_debt = 444\n",
    "two_debt = 194\n",
    "three_debt = 27\n",
    "four_debt = 4\n",
    "more_than_five_debt = 8\n",
    "\n",
    "none_debt_conversion = none_debt / none_total\n",
    "one_debt_conversion = one_debt / one_total\n",
    "two_debt_conversion = two_debt / two_total\n",
    "three_debt_conversion = three_debt / three_total\n",
    "four_debt_conversion = four_debt / four_total\n",
    "more_than_five_debt_conversion = more_than_five_debt / more_than_five_total\n",
    "print(f'tasa de endeudamiento de las personas con ningún hijo: {none_debt_conversion: .2%}')\n",
    "print(f'tasa de endeudamiento de las personas con un hijo: {one_debt_conversion: .2%}')\n",
    "print(f'tasa de endeudamiento de las personas con dos hijos: {two_debt_conversion: .2%}')\n",
    "print(f'tasa de endeudamiento de las personas con tres hijos: {three_debt_conversion: .2%}')\n",
    "print(f'tasa de endeudamiento de las personas con cuatro: {four_debt_conversion: .2%}')\n",
    "print(f'tasa de endeudamiento de las personas con más de cinco hijos: {more_than_five_debt_conversion: .2%}')"
   ]
  },
  {
   "cell_type": "markdown",
   "metadata": {},
   "source": [
    "**Conclusión**\n",
    "\n",
    "\n",
    "\n",
    "Se pudo observar que los usuarios que no tienen hijos presentan mayor incumplimiento que los usuarios que sí tienen hijos. Sin embargo, las personas con 1 hijo tambien poseen una tasa de incumplimiento alta; esto puede ocurrir debido a que con menor cantidad de hijos, o sin ninguno en algunos casos, debe existir menor responsabilidad o presión por parte de los usuarios para pagar su deuda. Sin embargo, son las personas con cuatro hijos que poseen una tasa de endeudamiento mayor a las demás con un 9.76% con respecto a su total de las personas con y sin deudas.\n"
   ]
  },
  {
   "cell_type": "markdown",
   "metadata": {},
   "source": [
    "**¿Existe una correlación entre la situación familiar y el pago a tiempo?**"
   ]
  },
  {
   "cell_type": "code",
   "execution_count": 93,
   "metadata": {
    "scrolled": true
   },
   "outputs": [
    {
     "name": "stdout",
     "output_type": "stream",
     "text": [
      "family_status\n",
      "civil partnership     4151\n",
      "divorced              1195\n",
      "married              12339\n",
      "unmarried             2810\n",
      "widow                  959\n",
      "Name: debt, dtype: int64\n"
     ]
    },
    {
     "data": {
      "text/html": [
       "<div>\n",
       "<style scoped>\n",
       "    .dataframe tbody tr th:only-of-type {\n",
       "        vertical-align: middle;\n",
       "    }\n",
       "\n",
       "    .dataframe tbody tr th {\n",
       "        vertical-align: top;\n",
       "    }\n",
       "\n",
       "    .dataframe thead tr th {\n",
       "        text-align: left;\n",
       "    }\n",
       "\n",
       "    .dataframe thead tr:last-of-type th {\n",
       "        text-align: right;\n",
       "    }\n",
       "</style>\n",
       "<table border=\"1\" class=\"dataframe\">\n",
       "  <thead>\n",
       "    <tr>\n",
       "      <th></th>\n",
       "      <th>count</th>\n",
       "      <th>mean</th>\n",
       "    </tr>\n",
       "    <tr>\n",
       "      <th></th>\n",
       "      <th>debt</th>\n",
       "      <th>debt</th>\n",
       "    </tr>\n",
       "    <tr>\n",
       "      <th>family_status</th>\n",
       "      <th></th>\n",
       "      <th></th>\n",
       "    </tr>\n",
       "  </thead>\n",
       "  <tbody>\n",
       "    <tr>\n",
       "      <th>civil partnership</th>\n",
       "      <td>4151</td>\n",
       "      <td>0.093471</td>\n",
       "    </tr>\n",
       "    <tr>\n",
       "      <th>divorced</th>\n",
       "      <td>1195</td>\n",
       "      <td>0.071130</td>\n",
       "    </tr>\n",
       "    <tr>\n",
       "      <th>married</th>\n",
       "      <td>12339</td>\n",
       "      <td>0.075452</td>\n",
       "    </tr>\n",
       "    <tr>\n",
       "      <th>unmarried</th>\n",
       "      <td>2810</td>\n",
       "      <td>0.097509</td>\n",
       "    </tr>\n",
       "    <tr>\n",
       "      <th>widow</th>\n",
       "      <td>959</td>\n",
       "      <td>0.065693</td>\n",
       "    </tr>\n",
       "  </tbody>\n",
       "</table>\n",
       "</div>"
      ],
      "text/plain": [
       "                   count      mean\n",
       "                    debt      debt\n",
       "family_status                     \n",
       "civil partnership   4151  0.093471\n",
       "divorced            1195  0.071130\n",
       "married            12339  0.075452\n",
       "unmarried           2810  0.097509\n",
       "widow                959  0.065693"
      ]
     },
     "execution_count": 93,
     "metadata": {},
     "output_type": "execute_result"
    }
   ],
   "source": [
    "# Comprueba los datos del estado familiar y los pagos a tiempo\n",
    "print(credit_score.groupby('family_status')['debt'].count())\n",
    "\n",
    "\n",
    "# Calcular la tasa de incumplimiento basada en el estado familiar\n",
    "\n",
    "credit_score.pivot_table(index='family_status', values='debt', aggfunc=['count', 'mean'])"
   ]
  },
  {
   "cell_type": "code",
   "execution_count": 100,
   "metadata": {},
   "outputs": [
    {
     "name": "stdout",
     "output_type": "stream",
     "text": [
      "tasa de endeudamiento de las personas con unión civil:  9.35%\n",
      "tasa de endeudamiento de las personas casadas:  7.55%\n",
      "tasa de endeudamiento de las personas divorciadas:  7.11%\n",
      "tasa de endeudamiento de las personas no casadas:  9.75%\n",
      "tasa de endeudamiento de las personas viudas:  6.57%\n"
     ]
    }
   ],
   "source": [
    "civil_total = 4151\n",
    "married_total = 12339\n",
    "divorced_total = 1195\n",
    "unmarried_total = 2810\n",
    "widow_total = 959\n",
    "civil_debt = 388\n",
    "married_debt = 931\n",
    "divorced_debt = 85\n",
    "unmarried_debt = 274\n",
    "widow_debt = 63\n",
    "\n",
    "civil_debt_conversion = civil_debt / civil_total\n",
    "married_debt_conversion = married_debt / married_total\n",
    "divorced_debt_conversion = divorced_debt / divorced_total\n",
    "unmarried_debt_conversion = unmarried_debt / unmarried_total\n",
    "widow_debt_conversion = widow_debt / widow_total\n",
    "print(f'tasa de endeudamiento de las personas con unión civil: {civil_debt_conversion: .2%}')\n",
    "print(f'tasa de endeudamiento de las personas casadas: {married_debt_conversion: .2%}')\n",
    "print(f'tasa de endeudamiento de las personas divorciadas: {divorced_debt_conversion: .2%}')\n",
    "print(f'tasa de endeudamiento de las personas no casadas: {unmarried_debt_conversion: .2%}')\n",
    "print(f'tasa de endeudamiento de las personas viudas: {widow_debt_conversion: .2%}')"
   ]
  },
  {
   "cell_type": "markdown",
   "metadata": {},
   "source": [
    "**Conclusión**\n",
    "\n",
    "\n",
    "\n",
    "Despues de elaborar el análisis, se pudo observar que las personas casadas y con unión civil son las que más deuda poseen en comparación a las otras, pero son las personas no casadas las que poseen una tasa de endeudamiento mayor con respecto a su total."
   ]
  },
  {
   "cell_type": "markdown",
   "metadata": {},
   "source": [
    "**¿Existe una correlación entre el nivel de ingresos y el pago a tiempo?**"
   ]
  },
  {
   "cell_type": "code",
   "execution_count": 98,
   "metadata": {
    "scrolled": true
   },
   "outputs": [
    {
     "name": "stdout",
     "output_type": "stream",
     "text": [
      "income_group\n",
      "high           573\n",
      "low           7369\n",
      "medium       13413\n",
      "very high       99\n",
      "Name: debt, dtype: int64\n"
     ]
    },
    {
     "data": {
      "text/html": [
       "<div>\n",
       "<style scoped>\n",
       "    .dataframe tbody tr th:only-of-type {\n",
       "        vertical-align: middle;\n",
       "    }\n",
       "\n",
       "    .dataframe tbody tr th {\n",
       "        vertical-align: top;\n",
       "    }\n",
       "\n",
       "    .dataframe thead tr th {\n",
       "        text-align: left;\n",
       "    }\n",
       "\n",
       "    .dataframe thead tr:last-of-type th {\n",
       "        text-align: right;\n",
       "    }\n",
       "</style>\n",
       "<table border=\"1\" class=\"dataframe\">\n",
       "  <thead>\n",
       "    <tr>\n",
       "      <th></th>\n",
       "      <th>count</th>\n",
       "      <th>mean</th>\n",
       "    </tr>\n",
       "    <tr>\n",
       "      <th></th>\n",
       "      <th>debt</th>\n",
       "      <th>debt</th>\n",
       "    </tr>\n",
       "    <tr>\n",
       "      <th>income_group</th>\n",
       "      <th></th>\n",
       "      <th></th>\n",
       "    </tr>\n",
       "  </thead>\n",
       "  <tbody>\n",
       "    <tr>\n",
       "      <th>high</th>\n",
       "      <td>573</td>\n",
       "      <td>0.055846</td>\n",
       "    </tr>\n",
       "    <tr>\n",
       "      <th>low</th>\n",
       "      <td>7369</td>\n",
       "      <td>0.082508</td>\n",
       "    </tr>\n",
       "    <tr>\n",
       "      <th>medium</th>\n",
       "      <td>13413</td>\n",
       "      <td>0.081637</td>\n",
       "    </tr>\n",
       "    <tr>\n",
       "      <th>very high</th>\n",
       "      <td>99</td>\n",
       "      <td>0.060606</td>\n",
       "    </tr>\n",
       "  </tbody>\n",
       "</table>\n",
       "</div>"
      ],
      "text/plain": [
       "              count      mean\n",
       "               debt      debt\n",
       "income_group                 \n",
       "high            573  0.055846\n",
       "low            7369  0.082508\n",
       "medium        13413  0.081637\n",
       "very high        99  0.060606"
      ]
     },
     "execution_count": 98,
     "metadata": {},
     "output_type": "execute_result"
    }
   ],
   "source": [
    "# Comprueba los datos del nivel de ingresos y los pagos a tiempo\n",
    "print(credit_score.groupby('income_group')['debt'].count())\n",
    "\n",
    "\n",
    "# Calcular la tasa de incumplimiento basada en el nivel de ingresos\n",
    "credit_score.pivot_table(index='income_group', values='debt', aggfunc=['count', 'mean'])\n"
   ]
  },
  {
   "cell_type": "code",
   "execution_count": 99,
   "metadata": {},
   "outputs": [
    {
     "name": "stdout",
     "output_type": "stream",
     "text": [
      "tasa de endeudamiento de las personas con ingresos bajos:  8.25%\n",
      "tasa de endeudamiento de las personas con ingresos medios:  8.16%\n"
     ]
    }
   ],
   "source": [
    "low_total = 7369\n",
    "medium_total = 13413\n",
    "low_debt = 608\n",
    "medium_debt = 1095\n",
    "\n",
    "low_debt_conversion = low_debt / low_total\n",
    "medium_debt_conversion = medium_debt / medium_total\n",
    "print(f'tasa de endeudamiento de las personas con ingresos bajos: {low_debt_conversion: .2%}')\n",
    "print(f'tasa de endeudamiento de las personas con ingresos medios: {medium_debt_conversion: .2%}')"
   ]
  },
  {
   "cell_type": "markdown",
   "metadata": {},
   "source": [
    "**Conclusión**\n",
    "\n",
    "\n",
    "\n",
    "Se puede observar, que las personas con un nivel de ingresos medio son las que poseen una tasa de incumplimiento alta, pero también son las que menos deuda poseen; asimismo, las personas con ingreso bajo son las segundas que poseen un incumplimiento en el pago de su deuda, despues que las de ingreso medio; sin embargo, la tasa de incumplimiento es similar a la de los ingresos medios con un 8.25% y 8.16% con respecto al total de cada uno respectivamente."
   ]
  },
  {
   "cell_type": "markdown",
   "metadata": {},
   "source": [
    "**¿Cómo afecta el propósito del crédito a la tasa de incumplimiento?**"
   ]
  },
  {
   "cell_type": "code",
   "execution_count": 95,
   "metadata": {},
   "outputs": [
    {
     "name": "stdout",
     "output_type": "stream",
     "text": [
      "purpose_group\n",
      "education                  3517\n",
      "get a car                  4306\n",
      "housing                    1905\n",
      "real state and property    9402\n",
      "wedding                    2324\n",
      "Name: debt, dtype: int64\n",
      "\n"
     ]
    },
    {
     "data": {
      "text/html": [
       "<div>\n",
       "<style scoped>\n",
       "    .dataframe tbody tr th:only-of-type {\n",
       "        vertical-align: middle;\n",
       "    }\n",
       "\n",
       "    .dataframe tbody tr th {\n",
       "        vertical-align: top;\n",
       "    }\n",
       "\n",
       "    .dataframe thead tr th {\n",
       "        text-align: left;\n",
       "    }\n",
       "\n",
       "    .dataframe thead tr:last-of-type th {\n",
       "        text-align: right;\n",
       "    }\n",
       "</style>\n",
       "<table border=\"1\" class=\"dataframe\">\n",
       "  <thead>\n",
       "    <tr>\n",
       "      <th></th>\n",
       "      <th>count</th>\n",
       "      <th>mean</th>\n",
       "    </tr>\n",
       "    <tr>\n",
       "      <th></th>\n",
       "      <th>debt</th>\n",
       "      <th>debt</th>\n",
       "    </tr>\n",
       "    <tr>\n",
       "      <th>purpose_group</th>\n",
       "      <th></th>\n",
       "      <th></th>\n",
       "    </tr>\n",
       "  </thead>\n",
       "  <tbody>\n",
       "    <tr>\n",
       "      <th>education</th>\n",
       "      <td>3517</td>\n",
       "      <td>0.092977</td>\n",
       "    </tr>\n",
       "    <tr>\n",
       "      <th>get a car</th>\n",
       "      <td>4306</td>\n",
       "      <td>0.093590</td>\n",
       "    </tr>\n",
       "    <tr>\n",
       "      <th>housing</th>\n",
       "      <td>1905</td>\n",
       "      <td>0.067717</td>\n",
       "    </tr>\n",
       "    <tr>\n",
       "      <th>real state and property</th>\n",
       "      <td>9402</td>\n",
       "      <td>0.074027</td>\n",
       "    </tr>\n",
       "    <tr>\n",
       "      <th>wedding</th>\n",
       "      <td>2324</td>\n",
       "      <td>0.080034</td>\n",
       "    </tr>\n",
       "  </tbody>\n",
       "</table>\n",
       "</div>"
      ],
      "text/plain": [
       "                        count      mean\n",
       "                         debt      debt\n",
       "purpose_group                          \n",
       "education                3517  0.092977\n",
       "get a car                4306  0.093590\n",
       "housing                  1905  0.067717\n",
       "real state and property  9402  0.074027\n",
       "wedding                  2324  0.080034"
      ]
     },
     "execution_count": 95,
     "metadata": {},
     "output_type": "execute_result"
    }
   ],
   "source": [
    "# Consulta los porcentajes de tasa de incumplimiento para cada propósito del crédito y analízalos\n",
    "print(credit_score.groupby('purpose_group')['debt'].count())\n",
    "print()\n",
    "credit_score.pivot_table(index='purpose_group', values='debt', aggfunc=['count', 'mean'])\n"
   ]
  },
  {
   "cell_type": "code",
   "execution_count": 96,
   "metadata": {},
   "outputs": [
    {
     "name": "stdout",
     "output_type": "stream",
     "text": [
      "tasa de endeudamiento de las personas con propósito de educación:  9.30%\n",
      "tasa de endeudamiento de las personas con propósito de conseguir un carro:  9.36%\n",
      "tasa de endeudamiento de las personas con propósito de alojamiento:  6.77%\n",
      "tasa de endeudamiento de las personas con propósito de bienes raíces y propiedades:  7.40%\n",
      "tasa de endeudamiento de las personas con propósitos de matrimonio:  8.00%\n"
     ]
    }
   ],
   "source": [
    "education_total = 3517\n",
    "getacar_total = 4306\n",
    "housing_total = 1905\n",
    "rsp_total = 9402\n",
    "wedding_total = 2324\n",
    "education_debt = 327\n",
    "getacar_debt = 403\n",
    "housing_debt = 129\n",
    "rsp_debt = 696\n",
    "wedding_debt = 186\n",
    "\n",
    "education_debt_conversion = education_debt / education_total\n",
    "getacar_debt_conversion = getacar_debt / getacar_total\n",
    "housing_debt_conversion = housing_debt / housing_total\n",
    "rsp_debt_conversion = rsp_debt / rsp_total\n",
    "wedding_debt_conversion = wedding_debt / wedding_total\n",
    "print(f'tasa de endeudamiento de las personas con propósito de educación: {education_debt_conversion: .2%}')\n",
    "print(f'tasa de endeudamiento de las personas con propósito de conseguir un carro: {getacar_debt_conversion: .2%}')\n",
    "print(f'tasa de endeudamiento de las personas con propósito de alojamiento: {housing_debt_conversion: .2%}')\n",
    "print(f'tasa de endeudamiento de las personas con propósito de bienes raíces y propiedades: {rsp_debt_conversion: .2%}')\n",
    "print(f'tasa de endeudamiento de las personas con propósitos de matrimonio: {wedding_debt_conversion: .2%}')"
   ]
  },
  {
   "cell_type": "markdown",
   "metadata": {},
   "source": [
    "**Conclusión**\n",
    "\n",
    "\n",
    "\n",
    "Se puede concluir en esta parte que las personas con propósito de bienes raíces y propiedades son las que más endudamiento presentan, esto se debe a que es el propósito que más tienen las personas del datset; y con respecto a los porcentajes de la tasa de endeudamiento y las cantidades de cada propósito, se pudo observar que son las personas con propósito de conseguir un carro o algo relacionado a los carros, que tiene mayor porcentaje en la tasa de endeudamiento con respecto a su total, en comparación a los otros proósitos, con alrededor de 9.36%; pero no muy por detras se encuentran las personas con propósito de educación con un 9.30%.\n"
   ]
  },
  {
   "cell_type": "markdown",
   "metadata": {},
   "source": [
    "# Conclusión general <a id='general_conclussions'></a>\n",
    "\n",
    "\n",
    "\n",
    "Después anlizar los datos, se pudo concluir que:\n",
    "1. Los valores ausentes en algunas columnas, como la de total income y la de days employed, pudieron ocurrir debido a factores en común, como personas con educación secundaria o las personas con estado civil casados; pero para no tener problemas en el análisis, se rellenaron con el valor de la media de dichas columnas.\n",
    "2. Los valores duplicados fueron abordados de manera más práctica, eliminandolos del dataset.\n",
    "3. Se encontraron valores atípicos, como datos negativos en columnas como los días empleados; lo cual no tenía mucho sentido; o un dato 0 en la columna de edad; por este motivo, estos datos fueron abordados cambiando los valores negativos a positivos, y arreglando el valor 0 de la columna edad.\n",
    "4. Se clasificaron datos en distintas categorías, como la edad, los niveles de ingresos, y los distintos propósitos del préstamo, con el fin de tener un mejor orden y visión en los datos. \n",
    "\n",
    "\n",
    "\n",
    "Asimismo, hemos probado las siguientes cuatro hipótesis:\n",
    "\n",
    "1. La conexión entre tener hijos y el pago de un préstamo a tiempo.\n",
    "2. La conexión entre el estado civil de las personas y pagar un préstamo a tiempo.\n",
    "3. Si los niveles de ingresos afectan el pago de un préstamo a tiempo.\n",
    "4. Si los distintos propósitos del préstamo afectan el pago a tiempo del mismo.\n",
    "\n",
    "Tras analizar los datos, concluímos que:\n",
    "\n",
    "1. Los usuarios que no tienen hijos son los que más deben, siguiendo los que solo tienen un hijo.\n",
    "\n",
    "Por lo tanto, la primera hipótesis ha sido aceptada, ya que si existe una conexión.\n",
    "\n",
    "2. Las personas casadas son las que más deben.\n",
    "\n",
    "Así que, esta hipótesis también es correcta, pero debemos tener en cuenta que las personas no casadas tienen una tasa de conversión del endeudamiento con respecto al total de las personas de ese estado civil más alta.\n",
    "\n",
    "3. Las personas con un nivel de ingresos medio son las que más deben, siguiendo las personas con un nivel de ingreso bajo.\n",
    "\n",
    "Entonces, esta tercera hipótesis es aceptada, ya que los niveles de ingresos si son um factor influyente para tener una deuda.\n",
    "\n",
    "4. Las personas con el propósito de préstamo relacionado a los carros, son los que más tasa de endeudamiento poseen, siguiendo a los que tienen como propósito de educación. \n",
    "\n",
    "Esta cuarta hipótesis es aceptada, ya que los propósito si afectan al pago del préstamo.\n"
   ]
  }
 ],
 "metadata": {
  "ExecuteTimeLog": [
   {
    "duration": 2741,
    "start_time": "2021-10-21T01:08:49.480Z"
   },
   {
    "duration": 52,
    "start_time": "2021-10-21T01:08:53.315Z"
   },
   {
    "duration": 49,
    "start_time": "2021-10-21T01:08:57.432Z"
   },
   {
    "duration": 70,
    "start_time": "2021-10-21T01:09:07.706Z"
   }
  ],
  "kernelspec": {
   "display_name": "Python 3 (ipykernel)",
   "language": "python",
   "name": "python3"
  },
  "language_info": {
   "codemirror_mode": {
    "name": "ipython",
    "version": 3
   },
   "file_extension": ".py",
   "mimetype": "text/x-python",
   "name": "python",
   "nbconvert_exporter": "python",
   "pygments_lexer": "ipython3",
   "version": "3.9.5"
  },
  "toc": {
   "base_numbering": 1,
   "nav_menu": {},
   "number_sections": true,
   "sideBar": true,
   "skip_h1_title": true,
   "title_cell": "Table of Contents",
   "title_sidebar": "Contents",
   "toc_cell": false,
   "toc_position": {},
   "toc_section_display": true,
   "toc_window_display": false
  }
 },
 "nbformat": 4,
 "nbformat_minor": 2
}
